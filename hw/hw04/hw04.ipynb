{
 "cells": [
  {
   "cell_type": "code",
   "metadata": {
    "deletable": false,
    "editable": false,
    "ExecuteTime": {
     "end_time": "2025-05-19T03:53:49.301697Z",
     "start_time": "2025-05-19T03:53:48.849650Z"
    }
   },
   "source": [
    "# Initialize Otter\n",
    "import otter\n",
    "grader = otter.Notebook(\"hw04.ipynb\")"
   ],
   "id": "a918b88268ef99cf",
   "outputs": [],
   "execution_count": 5
  },
  {
   "cell_type": "markdown",
   "metadata": {},
   "source": [
    "<img src=\"data8logo.png\" alt=\"Data 8 Logo\" style=\"width: 15%; float: right; padding: 1%; margin-right: 2%;\"/>\n",
    "\n",
    "# Homework 4: Functions, Tables, and Groups\n",
    "\n",
    "Please complete this notebook by filling in the cells provided. Before you begin, execute the previous cell to load the provided tests.\n",
    "\n",
    "**Helpful Resource:**\n",
    "- [Python Reference](http://data8.org/fa24/reference/): Cheat sheet of helpful array & table methods used in Data 8!\n",
    "\n",
    "**Recommended Readings**: \n",
    "\n",
    "* [Visualizing Numerical Distributions](https://www.inferentialthinking.com/chapters/07/2/Visualizing_Numerical_Distributions.html)\n",
    "* [Functions and Tables](https://www.inferentialthinking.com/chapters/08/Functions_and_Tables.html)\n",
    "\n",
    "Please complete this notebook by filling in the cells provided. **Before you begin, execute the cell below to setup the notebook by importing some helpful libraries.** Each time you start your server, you will need to execute this cell again.\n",
    "\n",
    "For all problems that you must write explanations and sentences for, you **must** provide your answer in the designated space. Moreover, throughout this homework and all future ones, **please be sure to not re-assign variables throughout the notebook!** For example, if you use `max_temperature` in your answer to one question, do not reassign it later on. Otherwise, you will fail tests that you thought you were passing previously!\n",
    "\n",
    "**Deadline:**\n",
    "\n",
    "This assignment is **due Wednesday, 9/25 at 5:00pm PT**. Submissions after this time will be accepted for 24 hours and will incur a 20% penalty. Any submissions later than this 24 hour period will not be accepted unless an extension has been granted as per the [policies](http://data8.org/fa24/policies/) page. Turn it in by Tuesday, 9/24 at 5:00pm PT for 5 extra credit points.\n",
    "\n",
    "<span style=\"color:red\">**Note: This homework has hidden tests on it. That means even though tests may say 100% passed, it doesn't mean your final grade will be 100%. We will be running more tests for correctness once everyone turns in the homework.**</span>\n",
    "\n",
    "Directly sharing answers is not okay, but discussing problems with the course staff or with other students is encouraged. Refer to the [policies](http://data8.org/fa24/policies/#learning-cooperatively) page to learn more about how to learn cooperatively.\n",
    "\n",
    "You should start early so that you have time to get help if you're stuck. Office hours are held Monday through Friday in [Warren Hall](https://www.berkeley.edu/map?warren). The office hours schedule appears on our [OH page](http://data8.org/fa24/officehours/)."
   ],
   "id": "b71c29cedbd5d3de"
  },
  {
   "cell_type": "markdown",
   "metadata": {},
   "source": [
    "---\n",
    "\n",
    "The point breakdown for this assignment is given in the table below:\n",
    "| Category | Points |\n",
    "| --- | --- |\n",
    "| Autograder (Coding questions) | 60 |\n",
    "| Written | 40 |\n",
    "| **Total** | 100 |\n"
   ],
   "id": "669407688cdeb2e4"
  },
  {
   "cell_type": "markdown",
   "metadata": {},
   "source": [
    "<hr style=\"border: 5px solid #003262;\" />\n",
    "<hr style=\"border: 1px solid #fdb515;\" />\n",
    "\n",
    "## 1. Burrito-ful San Diego"
   ],
   "id": "ec77daab317d3ba5"
  },
  {
   "cell_type": "code",
   "metadata": {
    "ExecuteTime": {
     "end_time": "2025-05-19T03:53:50.043879Z",
     "start_time": "2025-05-19T03:53:49.310209Z"
    }
   },
   "source": [
    "# Run this cell to set up the notebook, but please don't change it.\n",
    "\n",
    "# These lines import the Numpy and Datascience modules.\n",
    "import numpy as np\n",
    "from datascience import *\n",
    "\n",
    "# These lines do some fancy plotting magic.\n",
    "import matplotlib\n",
    "%matplotlib inline\n",
    "import matplotlib.pyplot as plt\n",
    "plt.style.use('fivethirtyeight')\n",
    "\n",
    "import warnings\n",
    "warnings.simplefilter('ignore', FutureWarning)\n",
    "warnings.filterwarnings(\"ignore\")"
   ],
   "id": "56b758f5ba651328",
   "outputs": [
    {
     "name": "stderr",
     "output_type": "stream",
     "text": [
      "/Users/thanglee/something beautiful/uni_datascience/.venv/lib/python3.9/site-packages/urllib3/__init__.py:35: NotOpenSSLWarning: urllib3 v2 only supports OpenSSL 1.1.1+, currently the 'ssl' module is compiled with 'LibreSSL 2.8.3'. See: https://github.com/urllib3/urllib3/issues/3020\n",
      "  warnings.warn(\n"
     ]
    }
   ],
   "execution_count": 6
  },
  {
   "cell_type": "markdown",
   "metadata": {},
   "source": [
    "Edwin, Gamy and Andrew are trying to use Data Science to find the best burritos in San Diego! Their friends Jessica, Aileen, and Conan provided them with two comprehensive datasets on many burrito establishments in the San Diego area taken and cleaned from [here](https://www.kaggle.com/srcole/burritos-in-san-diego/data)"
   ],
   "id": "ba947a46d9df879d"
  },
  {
   "cell_type": "markdown",
   "metadata": {},
   "source": [
    "The following cell reads in a table called `ratings` which contains names of burrito restaurants, their Yelp rating, Google rating, as well as their overall rating. The `Overall` rating is not an average of the `Yelp` and `Google` ratings, but rather it is the overall rating of the customers that were surveyed in the study above.\n",
    "\n",
    "\n",
    "It also reads in a table called `burritos_types` which contains names of burrito restaurants, their menu items, and the cost of the respective menu item at the restaurant."
   ],
   "id": "b2a7004875b863e"
  },
  {
   "cell_type": "code",
   "metadata": {
    "deletable": false,
    "editable": false,
    "ExecuteTime": {
     "end_time": "2025-05-19T03:53:50.063795Z",
     "start_time": "2025-05-19T03:53:50.054228Z"
    }
   },
   "source": [
    "# Just run this cell\n",
    "ratings = Table.read_table(\"ratings.csv\")\n",
    "ratings.show(5)\n",
    "burritos_types = Table.read_table(\"burritos_types.csv\").drop(0)\n",
    "burritos_types.show(5)"
   ],
   "id": "799f20ee2a4f5fc7",
   "outputs": [
    {
     "data": {
      "text/plain": [
       "<IPython.core.display.HTML object>"
      ],
      "text/html": [
       "<table border=\"1\" class=\"dataframe\">\n",
       "    <thead>\n",
       "        <tr>\n",
       "            <th>Name</th> <th>Yelp</th> <th>Google</th> <th>Overall</th>\n",
       "        </tr>\n",
       "    </thead>\n",
       "    <tbody>\n",
       "        <tr>\n",
       "            <td>Albertacos                </td> <td>3.5 </td> <td>3.9   </td> <td>3.45   </td>\n",
       "        </tr>\n",
       "        <tr>\n",
       "            <td>Burrito Factory           </td> <td>4.5 </td> <td>4.8   </td> <td>3.5    </td>\n",
       "        </tr>\n",
       "        <tr>\n",
       "            <td>Burros and Fries          </td> <td>3.5 </td> <td>4.1   </td> <td>3.575  </td>\n",
       "        </tr>\n",
       "        <tr>\n",
       "            <td>Caliente Mexican Food     </td> <td>3.5 </td> <td>4.4   </td> <td>3.25   </td>\n",
       "        </tr>\n",
       "        <tr>\n",
       "            <td>California Burrito Company</td> <td>3.5 </td> <td>4.4   </td> <td>3.2    </td>\n",
       "        </tr>\n",
       "    </tbody>\n",
       "</table>\n",
       "<p>... (77 rows omitted)</p>"
      ]
     },
     "metadata": {},
     "output_type": "display_data"
    },
    {
     "data": {
      "text/plain": [
       "<IPython.core.display.HTML object>"
      ],
      "text/html": [
       "<table border=\"1\" class=\"dataframe\">\n",
       "    <thead>\n",
       "        <tr>\n",
       "            <th>Name</th> <th>Menu_Item</th> <th>Cost</th>\n",
       "        </tr>\n",
       "    </thead>\n",
       "    <tbody>\n",
       "        <tr>\n",
       "            <td>Albertacos                                         </td> <td>California          </td> <td>5.7 </td>\n",
       "        </tr>\n",
       "        <tr>\n",
       "            <td>Albertacos                                         </td> <td>Carne Asada         </td> <td>5.25</td>\n",
       "        </tr>\n",
       "        <tr>\n",
       "            <td>Alberto's 623 N Escondido Blvd, Escondido, CA 92025</td> <td>Carne Asada         </td> <td>4.59</td>\n",
       "        </tr>\n",
       "        <tr>\n",
       "            <td>Burrito Box                                        </td> <td>Steak With Guacamole</td> <td>11.5</td>\n",
       "        </tr>\n",
       "        <tr>\n",
       "            <td>Burrito Factory                                    </td> <td>Steak Everything    </td> <td>7.35</td>\n",
       "        </tr>\n",
       "    </tbody>\n",
       "</table>\n",
       "<p>... (244 rows omitted)</p>"
      ]
     },
     "metadata": {},
     "output_type": "display_data"
    }
   ],
   "execution_count": 7
  },
  {
   "attachments": {},
   "cell_type": "markdown",
   "metadata": {},
   "source": [
    "---\n",
    "\n",
    "**Question 1.** It would be easier if we could combine the information in both tables. Assign `burritos` to the result of joining the two tables together, so that we have a table with the ratings for every corresponding menu item from every restaurant. Each menu item has the same rating as the restaurant from which it is from. **(8 Points)**\n",
    "\n",
    "*Note:* It doesn't matter which table you put in as the argument to the table method, either order will work for the autograder tests.\n",
    "\n",
    "*Hint:* Which function lets us combine information from two tables? Refer to the [Python Reference Sheet](http://data8.org/su24/reference/) if you're unsure!\n"
   ],
   "id": "abd17d9ea975d475"
  },
  {
   "cell_type": "code",
   "metadata": {
    "scrolled": true,
    "tags": [],
    "ExecuteTime": {
     "end_time": "2025-05-19T03:53:50.183866Z",
     "start_time": "2025-05-19T03:53:50.176335Z"
    }
   },
   "source": [
    "# Let's say the first table is called `ratings`\n",
    "# and the second one is called `menu`.\n",
    "\n",
    "burritos = ratings.join(\"Name\", burritos_types)\n",
    "burritos.show()\n"
   ],
   "id": "dce05796408c1187",
   "outputs": [
    {
     "data": {
      "text/plain": [
       "<IPython.core.display.HTML object>"
      ],
      "text/html": [
       "<table border=\"1\" class=\"dataframe\">\n",
       "    <thead>\n",
       "        <tr>\n",
       "            <th>Name</th> <th>Yelp</th> <th>Google</th> <th>Overall</th> <th>Menu_Item</th> <th>Cost</th>\n",
       "        </tr>\n",
       "    </thead>\n",
       "    <tbody>\n",
       "        <tr>\n",
       "            <td>Albertacos                     </td> <td>3.5 </td> <td>3.9   </td> <td>3.45   </td> <td>California                    </td> <td>5.7  </td>\n",
       "        </tr>\n",
       "        <tr>\n",
       "            <td>Albertacos                     </td> <td>3.5 </td> <td>3.9   </td> <td>3.45   </td> <td>Carne Asada                   </td> <td>5.25 </td>\n",
       "        </tr>\n",
       "        <tr>\n",
       "            <td>Burrito Factory                </td> <td>4.5 </td> <td>4.8   </td> <td>3.5    </td> <td>Steak Everything              </td> <td>7.35 </td>\n",
       "        </tr>\n",
       "        <tr>\n",
       "            <td>Burros and Fries               </td> <td>3.5 </td> <td>4.1   </td> <td>3.575  </td> <td>California                    </td> <td>7.19 </td>\n",
       "        </tr>\n",
       "        <tr>\n",
       "            <td>Burros and Fries               </td> <td>3.5 </td> <td>4.1   </td> <td>3.575  </td> <td>Carne Asada                   </td> <td>6.89 </td>\n",
       "        </tr>\n",
       "        <tr>\n",
       "            <td>Burros and Fries               </td> <td>3.5 </td> <td>4.1   </td> <td>3.575  </td> <td>Shrimp California             </td> <td>6.99 </td>\n",
       "        </tr>\n",
       "        <tr>\n",
       "            <td>Caliente Mexican Food          </td> <td>3.5 </td> <td>4.4   </td> <td>3.25   </td> <td>California                    </td> <td>6.47 </td>\n",
       "        </tr>\n",
       "        <tr>\n",
       "            <td>Caliente Mexican Food          </td> <td>3.5 </td> <td>4.4   </td> <td>3.25   </td> <td>Carne Asada                   </td> <td>5.56 </td>\n",
       "        </tr>\n",
       "        <tr>\n",
       "            <td>Caliente Mexican Food          </td> <td>3.5 </td> <td>4.4   </td> <td>3.25   </td> <td>Fried Fish                    </td> <td>5.56 </td>\n",
       "        </tr>\n",
       "        <tr>\n",
       "            <td>California Burrito Company     </td> <td>3.5 </td> <td>4.4   </td> <td>3.2    </td> <td>California                    </td> <td>5.5  </td>\n",
       "        </tr>\n",
       "        <tr>\n",
       "            <td>California Burrito Company     </td> <td>3.5 </td> <td>4.4   </td> <td>3.2    </td> <td>Dave'S California             </td> <td>6.5  </td>\n",
       "        </tr>\n",
       "        <tr>\n",
       "            <td>California Burrito Company     </td> <td>3.5 </td> <td>4.4   </td> <td>3.2    </td> <td>Fajitas                       </td> <td>6.5  </td>\n",
       "        </tr>\n",
       "        <tr>\n",
       "            <td>California Burritos            </td> <td>4.5 </td> <td>4.4   </td> <td>4.1    </td> <td>California (Only Cheese)      </td> <td>6.25 </td>\n",
       "        </tr>\n",
       "        <tr>\n",
       "            <td>California Burritos            </td> <td>4.5 </td> <td>4.4   </td> <td>4.1    </td> <td>California Everything         </td> <td>6.95 </td>\n",
       "        </tr>\n",
       "        <tr>\n",
       "            <td>California Burritos            </td> <td>4.5 </td> <td>4.4   </td> <td>4.1    </td> <td>Carne Asada Everything        </td> <td>6.25 </td>\n",
       "        </tr>\n",
       "        <tr>\n",
       "            <td>California Burritos            </td> <td>4.5 </td> <td>4.4   </td> <td>4.1    </td> <td>Carnitas                      </td> <td>5.5  </td>\n",
       "        </tr>\n",
       "        <tr>\n",
       "            <td>California Burritos            </td> <td>4.5 </td> <td>4.4   </td> <td>4.1    </td> <td>Chile Relleno And Carnitas    </td> <td>6.5  </td>\n",
       "        </tr>\n",
       "        <tr>\n",
       "            <td>California Burritos            </td> <td>4.5 </td> <td>4.4   </td> <td>4.1    </td> <td>Surf & Turf                   </td> <td>7    </td>\n",
       "        </tr>\n",
       "        <tr>\n",
       "            <td>California Burritos            </td> <td>4.5 </td> <td>4.4   </td> <td>4.1    </td> <td>California Everything         </td> <td>6.5  </td>\n",
       "        </tr>\n",
       "        <tr>\n",
       "            <td>California Burritos            </td> <td>4.5 </td> <td>4.4   </td> <td>4.1    </td> <td>California Everything Mini    </td> <td>4.75 </td>\n",
       "        </tr>\n",
       "        <tr>\n",
       "            <td>California Burritos            </td> <td>4.5 </td> <td>4.4   </td> <td>4.1    </td> <td>Surf & Turf                   </td> <td>6.75 </td>\n",
       "        </tr>\n",
       "        <tr>\n",
       "            <td>Cancun Mexican & Seafood       </td> <td>4.5 </td> <td>4.1   </td> <td>4.1    </td> <td>Adobada                       </td> <td>6.45 </td>\n",
       "        </tr>\n",
       "        <tr>\n",
       "            <td>Cancun Mexican & Seafood       </td> <td>4.5 </td> <td>4.1   </td> <td>4.1    </td> <td>California                    </td> <td>6.99 </td>\n",
       "        </tr>\n",
       "        <tr>\n",
       "            <td>Cancun Mexican & Seafood       </td> <td>4.5 </td> <td>4.1   </td> <td>4.1    </td> <td>Machaca                       </td> <td>5.99 </td>\n",
       "        </tr>\n",
       "        <tr>\n",
       "            <td>Carmen's Mexican Food          </td> <td>4   </td> <td>4.2   </td> <td>3.8    </td> <td>Adobada                       </td> <td>6.5  </td>\n",
       "        </tr>\n",
       "        <tr>\n",
       "            <td>Carmen's Mexican Food          </td> <td>4   </td> <td>4.2   </td> <td>3.8    </td> <td>Carne Asada                   </td> <td>6.5  </td>\n",
       "        </tr>\n",
       "        <tr>\n",
       "            <td>Chipotle                       </td> <td>3   </td> <td>4.2   </td> <td>3.375  </td> <td>Carnitas                      </td> <td>7.15 </td>\n",
       "        </tr>\n",
       "        <tr>\n",
       "            <td>Chipotle                       </td> <td>3   </td> <td>4.2   </td> <td>3.375  </td> <td>Custom                        </td> <td>7    </td>\n",
       "        </tr>\n",
       "        <tr>\n",
       "            <td>Colima's Mexican Food          </td> <td>4   </td> <td>4.2   </td> <td>3.66667</td> <td>Colimas Burrito               </td> <td>8.25 </td>\n",
       "        </tr>\n",
       "        <tr>\n",
       "            <td>Colima's Mexican Food          </td> <td>4   </td> <td>4.2   </td> <td>3.66667</td> <td>Bandido                       </td> <td>6.49 </td>\n",
       "        </tr>\n",
       "        <tr>\n",
       "            <td>Colima's Mexican Food          </td> <td>4   </td> <td>4.2   </td> <td>3.66667</td> <td>Hawaiian                      </td> <td>6.29 </td>\n",
       "        </tr>\n",
       "        <tr>\n",
       "            <td>Cortez Mexican Food            </td> <td>4.2 </td> <td>4     </td> <td>3.2    </td> <td>California                    </td> <td>6.25 </td>\n",
       "        </tr>\n",
       "        <tr>\n",
       "            <td>Cotixan                        </td> <td>4   </td> <td>4     </td> <td>3.6    </td> <td>California                    </td> <td>6.9  </td>\n",
       "        </tr>\n",
       "        <tr>\n",
       "            <td>Cotixan                        </td> <td>4   </td> <td>4     </td> <td>3.6    </td> <td>California                    </td> <td>7.19 </td>\n",
       "        </tr>\n",
       "        <tr>\n",
       "            <td>Don Carlos Taco Shop           </td> <td>4   </td> <td>4.5   </td> <td>3.3    </td> <td>California                    </td> <td>7.75 </td>\n",
       "        </tr>\n",
       "        <tr>\n",
       "            <td>Donato's taco shop             </td> <td>3.5 </td> <td>4.2   </td> <td>3.8    </td> <td>Al Pastor                     </td> <td>5.99 </td>\n",
       "        </tr>\n",
       "        <tr>\n",
       "            <td>Donato's taco shop             </td> <td>3.5 </td> <td>4.2   </td> <td>3.8    </td> <td>Carne Asada                   </td> <td>5.99 </td>\n",
       "        </tr>\n",
       "        <tr>\n",
       "            <td>Donato's taco shop             </td> <td>3.5 </td> <td>4.2   </td> <td>3.8    </td> <td>California                    </td> <td>6.49 </td>\n",
       "        </tr>\n",
       "        <tr>\n",
       "            <td>El Cuervo                      </td> <td>4   </td> <td>4.3   </td> <td>3.8    </td> <td>California                    </td> <td>6.95 </td>\n",
       "        </tr>\n",
       "        <tr>\n",
       "            <td>El Cuervo                      </td> <td>4   </td> <td>4.3   </td> <td>3.8    </td> <td>Pollo Adobado                 </td> <td>5.95 </td>\n",
       "        </tr>\n",
       "        <tr>\n",
       "            <td>El Dorado Mexican Food         </td> <td>4.5 </td> <td>4     </td> <td>4.025  </td> <td>California                    </td> <td>6.94 </td>\n",
       "        </tr>\n",
       "        <tr>\n",
       "            <td>El Dorado Mexican Food         </td> <td>4.5 </td> <td>4     </td> <td>4.025  </td> <td>California                    </td> <td>7.4  </td>\n",
       "        </tr>\n",
       "        <tr>\n",
       "            <td>El Dorado Mexican Food         </td> <td>4.5 </td> <td>4     </td> <td>4.025  </td> <td>Super                         </td> <td>6.94 </td>\n",
       "        </tr>\n",
       "        <tr>\n",
       "            <td>El Indio                       </td> <td>3.5 </td> <td>3.9   </td> <td>4      </td> <td>California                    </td> <td>7.84 </td>\n",
       "        </tr>\n",
       "        <tr>\n",
       "            <td>El Pollo Loco                  </td> <td>3.5 </td> <td>4.1   </td> <td>3.2    </td> <td>Chicken Avocado               </td> <td>5.99 </td>\n",
       "        </tr>\n",
       "        <tr>\n",
       "            <td>El Portal Fresh Mexican Grill  </td> <td>4   </td> <td>4.4   </td> <td>3.425  </td> <td>Carnitas                      </td> <td>6.7  </td>\n",
       "        </tr>\n",
       "        <tr>\n",
       "            <td>El Portal Fresh Mexican Grill  </td> <td>4   </td> <td>4.4   </td> <td>3.425  </td> <td>Mahi                          </td> <td>7.35 </td>\n",
       "        </tr>\n",
       "        <tr>\n",
       "            <td>El Pueblo Mexican Food         </td> <td>4   </td> <td>4.7   </td> <td>4.3    </td> <td>California                    </td> <td>4.99 </td>\n",
       "        </tr>\n",
       "        <tr>\n",
       "            <td>El Rey Moro                    </td> <td>4   </td> <td>3.8   </td> <td>3.66667</td> <td>California Surf               </td> <td>9.19 </td>\n",
       "        </tr>\n",
       "        <tr>\n",
       "            <td>El Rey Moro                    </td> <td>4   </td> <td>3.8   </td> <td>3.66667</td> <td>Hashbrown                     </td> <td>6.47 </td>\n",
       "        </tr>\n",
       "        <tr>\n",
       "            <td>El Torrito Foods               </td> <td>4   </td> <td>4.4   </td> <td>2.85   </td> <td>Adobada                       </td> <td>3.99 </td>\n",
       "        </tr>\n",
       "        <tr>\n",
       "            <td>El Torrito Foods               </td> <td>4   </td> <td>4.4   </td> <td>2.85   </td> <td>Asada                         </td> <td>5.49 </td>\n",
       "        </tr>\n",
       "        <tr>\n",
       "            <td>El Zarape                      </td> <td>4   </td> <td>4.4   </td> <td>3.54815</td> <td>Azteca                        </td> <td>6.25 </td>\n",
       "        </tr>\n",
       "        <tr>\n",
       "            <td>El Zarape                      </td> <td>4   </td> <td>4.4   </td> <td>3.54815</td> <td>California                    </td> <td>6.25 </td>\n",
       "        </tr>\n",
       "        <tr>\n",
       "            <td>El Zarape                      </td> <td>4   </td> <td>4.4   </td> <td>3.54815</td> <td>California Chicken            </td> <td>6.25 </td>\n",
       "        </tr>\n",
       "        <tr>\n",
       "            <td>El Zarape                      </td> <td>4   </td> <td>4.4   </td> <td>3.54815</td> <td>Carne Asada Supreme           </td> <td>6.25 </td>\n",
       "        </tr>\n",
       "        <tr>\n",
       "            <td>El Zarape                      </td> <td>4   </td> <td>4.4   </td> <td>3.54815</td> <td>Lobster                       </td> <td>9.5  </td>\n",
       "        </tr>\n",
       "        <tr>\n",
       "            <td>El Zarape                      </td> <td>4   </td> <td>4.4   </td> <td>3.54815</td> <td>Surf And Turf                 </td> <td>7    </td>\n",
       "        </tr>\n",
       "        <tr>\n",
       "            <td>Famoso Mexican Street Food     </td> <td>4.5 </td> <td>3.9   </td> <td>3.1    </td> <td>Cali Diablo                   </td> <td>10.5 </td>\n",
       "        </tr>\n",
       "        <tr>\n",
       "            <td>Filiberto's                    </td> <td>3   </td> <td>3.8   </td> <td>3.85   </td> <td>Adobada                       </td> <td>6.25 </td>\n",
       "        </tr>\n",
       "        <tr>\n",
       "            <td>Filiberto's                    </td> <td>3   </td> <td>3.8   </td> <td>3.85   </td> <td>California                    </td> <td>6.25 </td>\n",
       "        </tr>\n",
       "        <tr>\n",
       "            <td>Gloria's Taco Shop             </td> <td>4   </td> <td>4.3   </td> <td>2.35   </td> <td>Cabeza                        </td> <td>5.49 </td>\n",
       "        </tr>\n",
       "        <tr>\n",
       "            <td>Gloria's Taco Shop             </td> <td>4   </td> <td>4.3   </td> <td>2.35   </td> <td>California                    </td> <td>5.65 </td>\n",
       "        </tr>\n",
       "        <tr>\n",
       "            <td>Goody's                        </td> <td>3.5 </td> <td>4.1   </td> <td>1.95   </td> <td>Carne Asada                   </td> <td>6.25 </td>\n",
       "        </tr>\n",
       "        <tr>\n",
       "            <td>Goody's                        </td> <td>3.5 </td> <td>4.1   </td> <td>1.95   </td> <td>Custom                        </td> <td>7.25 </td>\n",
       "        </tr>\n",
       "        <tr>\n",
       "            <td>Goody's                        </td> <td>3.5 </td> <td>4.1   </td> <td>1.95   </td> <td>Custom                        </td> <td>8    </td>\n",
       "        </tr>\n",
       "        <tr>\n",
       "            <td>Graciela's Taco Shop           </td> <td>4   </td> <td>4.5   </td> <td>4      </td> <td>Adobada                       </td> <td>5.99 </td>\n",
       "        </tr>\n",
       "        <tr>\n",
       "            <td>Graciela's Taco Shop           </td> <td>4   </td> <td>4.5   </td> <td>4      </td> <td>Barbacoa                      </td> <td>5.99 </td>\n",
       "        </tr>\n",
       "        <tr>\n",
       "            <td>JV's Mexican Food              </td> <td>4   </td> <td>4.1   </td> <td>2.25   </td> <td>Carne Asada                   </td> <td>6.25 </td>\n",
       "        </tr>\n",
       "        <tr>\n",
       "            <td>JV's Mexican Food              </td> <td>4   </td> <td>4.1   </td> <td>2.25   </td> <td>Surf & Turf                   </td> <td>9.5  </td>\n",
       "        </tr>\n",
       "        <tr>\n",
       "            <td>Jorge's Mexicatessen           </td> <td>4   </td> <td>4.5   </td> <td>3.4    </td> <td>California                    </td> <td>5.95 </td>\n",
       "        </tr>\n",
       "        <tr>\n",
       "            <td>Jorge's Mexicatessen           </td> <td>4   </td> <td>4.5   </td> <td>3.4    </td> <td>Chimichanga Beef              </td> <td>5.5  </td>\n",
       "        </tr>\n",
       "        <tr>\n",
       "            <td>Jose's Taco                    </td> <td>4   </td> <td>3.8   </td> <td>3.3    </td> <td>California                    </td> <td>6.1  </td>\n",
       "        </tr>\n",
       "        <tr>\n",
       "            <td>Juanita's Taco Shop            </td> <td>4   </td> <td>4.5   </td> <td>3.7    </td> <td>Arizona                       </td> <td>5.55 </td>\n",
       "        </tr>\n",
       "        <tr>\n",
       "            <td>Juanita's Taco Shop            </td> <td>4   </td> <td>4.5   </td> <td>3.7    </td> <td>California                    </td> <td>5.55 </td>\n",
       "        </tr>\n",
       "        <tr>\n",
       "            <td>Karina's Taco Shop             </td> <td>4   </td> <td>4.2   </td> <td>3.75   </td> <td>California                    </td> <td>6.99 </td>\n",
       "        </tr>\n",
       "        <tr>\n",
       "            <td>King Burrito                   </td> <td>4   </td> <td>3.9   </td> <td>2.65   </td> <td>Adobaa                        </td> <td>4.99 </td>\n",
       "        </tr>\n",
       "        <tr>\n",
       "            <td>King Burrito                   </td> <td>4   </td> <td>3.9   </td> <td>2.65   </td> <td>California                    </td> <td>5.29 </td>\n",
       "        </tr>\n",
       "        <tr>\n",
       "            <td>Kotija Jr                      </td> <td>4   </td> <td>4.2   </td> <td>3.95   </td> <td>California                    </td> <td>6.99 </td>\n",
       "        </tr>\n",
       "        <tr>\n",
       "            <td>Kotija Jr                      </td> <td>4   </td> <td>4.2   </td> <td>3.95   </td> <td>Steak Fajitas                 </td> <td>7.1  </td>\n",
       "        </tr>\n",
       "        <tr>\n",
       "            <td>Kotija Jr                      </td> <td>4   </td> <td>4.2   </td> <td>3.95   </td> <td>Fish                          </td> <td>6.5  </td>\n",
       "        </tr>\n",
       "        <tr>\n",
       "            <td>La Morena Taco Shop and Seafood</td> <td>4.5 </td> <td>4.7   </td> <td>3      </td> <td>California                    </td> <td>6.35 </td>\n",
       "        </tr>\n",
       "        <tr>\n",
       "            <td>La Perla Cocina                </td> <td>4.5 </td> <td>4.7   </td> <td>3.5    </td> <td>Addiction                     </td> <td>7.99 </td>\n",
       "        </tr>\n",
       "        <tr>\n",
       "            <td>La Perla Cocina                </td> <td>4.5 </td> <td>4.7   </td> <td>3.5    </td> <td>California                    </td> <td>6.5  </td>\n",
       "        </tr>\n",
       "        <tr>\n",
       "            <td>La Perla Cocina                </td> <td>4.5 </td> <td>4.7   </td> <td>3.5    </td> <td>Oaxacalifornia                </td> <td>9.99 </td>\n",
       "        </tr>\n",
       "        <tr>\n",
       "            <td>Lola's 7 Up Market & Deli      </td> <td>4.5 </td> <td>4.9   </td> <td>3.4    </td> <td>Carne Asada                   </td> <td>7    </td>\n",
       "        </tr>\n",
       "        <tr>\n",
       "            <td>Lola's 7 Up Market & Deli      </td> <td>4.5 </td> <td>4.9   </td> <td>3.4    </td> <td>Shredded Beef                 </td> <td>6    </td>\n",
       "        </tr>\n",
       "        <tr>\n",
       "            <td>Los Cabos                      </td> <td>4   </td> <td>4.1   </td> <td>3.5    </td> <td>Al Pastor                     </td> <td>5.69 </td>\n",
       "        </tr>\n",
       "        <tr>\n",
       "            <td>Los Cabos                      </td> <td>4   </td> <td>4.1   </td> <td>3.5    </td> <td>California                    </td> <td>5.99 </td>\n",
       "        </tr>\n",
       "        <tr>\n",
       "            <td>Los Panchos Taco Shop          </td> <td>3   </td> <td>3.4   </td> <td>3.93333</td> <td>Super California              </td> <td>7.25 </td>\n",
       "        </tr>\n",
       "        <tr>\n",
       "            <td>Los Panchos Taco Shop          </td> <td>3   </td> <td>3.4   </td> <td>3.93333</td> <td>California                    </td> <td>6.25 </td>\n",
       "        </tr>\n",
       "        <tr>\n",
       "            <td>Los Panchos Taco Shop          </td> <td>3   </td> <td>3.4   </td> <td>3.93333</td> <td>Tijuana                       </td> <td>7    </td>\n",
       "        </tr>\n",
       "        <tr>\n",
       "            <td>Los Primos Mexican Food        </td> <td>3   </td> <td>3.7   </td> <td>2.75833</td> <td>619 Burrito Original          </td> <td>11.75</td>\n",
       "        </tr>\n",
       "        <tr>\n",
       "            <td>Los Primos Mexican Food        </td> <td>3   </td> <td>3.7   </td> <td>2.75833</td> <td>Adobada                       </td> <td>6.25 </td>\n",
       "        </tr>\n",
       "        <tr>\n",
       "            <td>Los Primos Mexican Food        </td> <td>3   </td> <td>3.7   </td> <td>2.75833</td> <td>Baja Monster                  </td> <td>6    </td>\n",
       "        </tr>\n",
       "        <tr>\n",
       "            <td>Los Primos Mexican Food        </td> <td>3   </td> <td>3.7   </td> <td>2.75833</td> <td>California                    </td> <td>7.5  </td>\n",
       "        </tr>\n",
       "        <tr>\n",
       "            <td>Los Primos Mexican Food        </td> <td>3   </td> <td>3.7   </td> <td>2.75833</td> <td>California Breakfast          </td> <td>6.25 </td>\n",
       "        </tr>\n",
       "        <tr>\n",
       "            <td>Los Primos Mexican Food        </td> <td>3   </td> <td>3.7   </td> <td>2.75833</td> <td>Carne Asada                   </td> <td>7    </td>\n",
       "        </tr>\n",
       "        <tr>\n",
       "            <td>Los Primos Mexican Food        </td> <td>3   </td> <td>3.7   </td> <td>2.75833</td> <td>Carnitas                      </td> <td>6.35 </td>\n",
       "        </tr>\n",
       "        <tr>\n",
       "            <td>Los Primos Mexican Food        </td> <td>3   </td> <td>3.7   </td> <td>2.75833</td> <td>Monster California            </td> <td>9.25 </td>\n",
       "        </tr>\n",
       "        <tr>\n",
       "            <td>Los Primos Mexican Food        </td> <td>3   </td> <td>3.7   </td> <td>2.75833</td> <td>Surf & Turf                   </td> <td>7    </td>\n",
       "        </tr>\n",
       "        <tr>\n",
       "            <td>Los Tacos 2                    </td> <td>4.5 </td> <td>5     </td> <td>3.6    </td> <td>Al Pastor Tradicional         </td> <td>8.25 </td>\n",
       "        </tr>\n",
       "        <tr>\n",
       "            <td>Los Tacos 2                    </td> <td>4.5 </td> <td>5     </td> <td>3.6    </td> <td>Cheese Steak                  </td> <td>9.95 </td>\n",
       "        </tr>\n",
       "        <tr>\n",
       "            <td>Los Tacos 2                    </td> <td>4.5 </td> <td>5     </td> <td>3.6    </td> <td>Local                         </td> <td>8.5  </td>\n",
       "        </tr>\n",
       "        <tr>\n",
       "            <td>Los palmitos                   </td> <td>4   </td> <td>4.1   </td> <td>3.95   </td> <td>California                    </td> <td>7.1  </td>\n",
       "        </tr>\n",
       "        <tr>\n",
       "            <td>Los palmitos                   </td> <td>4   </td> <td>4.1   </td> <td>3.95   </td> <td>Surf & Turf                   </td> <td>8.25 </td>\n",
       "        </tr>\n",
       "        <tr>\n",
       "            <td>Lourdes                        </td> <td>4   </td> <td>4.7   </td> <td>3.425  </td> <td>California                    </td> <td>6.35 </td>\n",
       "        </tr>\n",
       "        <tr>\n",
       "            <td>Lourdes                        </td> <td>4   </td> <td>4.7   </td> <td>3.425  </td> <td>Carnitas                      </td> <td>7.35 </td>\n",
       "        </tr>\n",
       "        <tr>\n",
       "            <td>Lucha Libre North Park         </td> <td>3.5 </td> <td>4.3   </td> <td>3.26429</td> <td>Bean And Cheese               </td> <td>3.75 </td>\n",
       "        </tr>\n",
       "        <tr>\n",
       "            <td>Lucha Libre North Park         </td> <td>3.5 </td> <td>4.3   </td> <td>3.26429</td> <td>California - Chicken          </td> <td>7.5  </td>\n",
       "        </tr>\n",
       "        <tr>\n",
       "            <td>Lucha Libre North Park         </td> <td>3.5 </td> <td>4.3   </td> <td>3.26429</td> <td>California - Pork Adobada     </td> <td>7.5  </td>\n",
       "        </tr>\n",
       "        <tr>\n",
       "            <td>Lucha Libre North Park         </td> <td>3.5 </td> <td>4.3   </td> <td>3.26429</td> <td>California - Steak            </td> <td>7.5  </td>\n",
       "        </tr>\n",
       "        <tr>\n",
       "            <td>Lucha Libre North Park         </td> <td>3.5 </td> <td>4.3   </td> <td>3.26429</td> <td>Holy Moly                     </td> <td>7.5  </td>\n",
       "        </tr>\n",
       "        <tr>\n",
       "            <td>Lucha Libre North Park         </td> <td>3.5 </td> <td>4.3   </td> <td>3.26429</td> <td>Nutty                         </td> <td>7.5  </td>\n",
       "        </tr>\n",
       "        <tr>\n",
       "            <td>Lucha Libre North Park         </td> <td>3.5 </td> <td>4.3   </td> <td>3.26429</td> <td>Surf & Turf                   </td> <td>8.25 </td>\n",
       "        </tr>\n",
       "        <tr>\n",
       "            <td>Lucha Libre North Park         </td> <td>3.5 </td> <td>4.3   </td> <td>3.26429</td> <td>Surfin California             </td> <td>8.25 </td>\n",
       "        </tr>\n",
       "        <tr>\n",
       "            <td>Lucha Libre North Park         </td> <td>3.5 </td> <td>4.3   </td> <td>3.26429</td> <td>Veg Out                       </td> <td>6.95 </td>\n",
       "        </tr>\n",
       "        <tr>\n",
       "            <td>Lucha Libre North Park         </td> <td>3.5 </td> <td>4.3   </td> <td>3.26429</td> <td>Veggie                        </td> <td>5.25 </td>\n",
       "        </tr>\n",
       "        <tr>\n",
       "            <td>Lupe's Taco Shop               </td> <td>3.5 </td> <td>4.5   </td> <td>3.54167</td> <td>California                    </td> <td>7.49 </td>\n",
       "        </tr>\n",
       "        <tr>\n",
       "            <td>Lupe's Taco Shop               </td> <td>3.5 </td> <td>4.5   </td> <td>3.54167</td> <td>Hot Cheetos                   </td> <td>7.29 </td>\n",
       "        </tr>\n",
       "        <tr>\n",
       "            <td>Lupe's Taco Shop               </td> <td>3.5 </td> <td>4.5   </td> <td>3.54167</td> <td>Spicy A La Diabla             </td> <td>7.49 </td>\n",
       "        </tr>\n",
       "        <tr>\n",
       "            <td>Lupe's Taco Shop               </td> <td>3.5 </td> <td>4.5   </td> <td>3.54167</td> <td>Surfin California             </td> <td>7.89 </td>\n",
       "        </tr>\n",
       "        <tr>\n",
       "            <td>Lupe's Taco Shop               </td> <td>3.5 </td> <td>4.5   </td> <td>3.54167</td> <td>Tgunz                         </td> <td>10   </td>\n",
       "        </tr>\n",
       "        <tr>\n",
       "            <td>Matador Mexican Food           </td> <td>4.5 </td> <td>4     </td> <td>3      </td> <td>Carne Asada                   </td> <td>6.6  </td>\n",
       "        </tr>\n",
       "        <tr>\n",
       "            <td>Matador Mexican Food           </td> <td>4.5 </td> <td>4     </td> <td>3      </td> <td>Carnitas                      </td> <td>6.6  </td>\n",
       "        </tr>\n",
       "        <tr>\n",
       "            <td>Mikes Taco Club                </td> <td>4.5 </td> <td>4.9   </td> <td>4.4    </td> <td>California                    </td> <td>8.59 </td>\n",
       "        </tr>\n",
       "        <tr>\n",
       "            <td>Netos Mexican Food             </td> <td>4.5 </td> <td>4.1   </td> <td>3.1    </td> <td>California                    </td> <td>5.99 </td>\n",
       "        </tr>\n",
       "        <tr>\n",
       "            <td>Netos Mexican Food             </td> <td>4.5 </td> <td>4.1   </td> <td>3.1    </td> <td>Carne Adobada                 </td> <td>5.5  </td>\n",
       "        </tr>\n",
       "        <tr>\n",
       "            <td>Nico's Taco Shop               </td> <td>3   </td> <td>2.9   </td> <td>2.8    </td> <td>California                    </td> <td>7.19 </td>\n",
       "        </tr>\n",
       "        <tr>\n",
       "            <td>Nico's Taco Shop               </td> <td>3   </td> <td>2.9   </td> <td>2.8    </td> <td>Carnitas                      </td> <td>6.99 </td>\n",
       "        </tr>\n",
       "        <tr>\n",
       "            <td>Ortiz's Taco Shop #2           </td> <td>4   </td> <td>4.2   </td> <td>3.6525 </td> <td>California                    </td> <td>6.39 </td>\n",
       "        </tr>\n",
       "        <tr>\n",
       "            <td>Ortiz's Taco Shop #2           </td> <td>4   </td> <td>4.2   </td> <td>3.6525 </td> <td>California - Chicken          </td> <td>6.39 </td>\n",
       "        </tr>\n",
       "        <tr>\n",
       "            <td>Oscar's Mexican food           </td> <td>3.5 </td> <td>3.3   </td> <td>3.25   </td> <td>California                    </td> <td>5.45 </td>\n",
       "        </tr>\n",
       "        <tr>\n",
       "            <td>Oscar's Mexican food           </td> <td>3.5 </td> <td>3.3   </td> <td>3.25   </td> <td>Carne Asada                   </td> <td>5.25 </td>\n",
       "        </tr>\n",
       "        <tr>\n",
       "            <td>Oscar's Mexican food           </td> <td>3.5 </td> <td>3.3   </td> <td>3.25   </td> <td>Carnitas                      </td> <td>4.85 </td>\n",
       "        </tr>\n",
       "        <tr>\n",
       "            <td>Papa Chito's Mexican Food      </td> <td>2.5 </td> <td>3.3   </td> <td>2.975  </td> <td>California                    </td> <td>6.25 </td>\n",
       "        </tr>\n",
       "        <tr>\n",
       "            <td>Pokirrito                      </td> <td>4   </td> <td>4.3   </td> <td>4.1    </td> <td>Mauna Lani                    </td> <td>11.95</td>\n",
       "        </tr>\n",
       "        <tr>\n",
       "            <td>Pokirrito                      </td> <td>4   </td> <td>4.3   </td> <td>4.1    </td> <td>Pokirrito Classic             </td> <td>11.95</td>\n",
       "        </tr>\n",
       "        <tr>\n",
       "            <td>Pollos Maria                   </td> <td>4   </td> <td>3.8   </td> <td>3.675  </td> <td>California                    </td> <td>6.59 </td>\n",
       "        </tr>\n",
       "        <tr>\n",
       "            <td>Pollos Maria                   </td> <td>4   </td> <td>3.8   </td> <td>3.675  </td> <td>Carne Asada                   </td> <td>6.49 </td>\n",
       "        </tr>\n",
       "        <tr>\n",
       "            <td>Pollos Maria                   </td> <td>4   </td> <td>3.8   </td> <td>3.675  </td> <td>Combo Chicken                 </td> <td>6.99 </td>\n",
       "        </tr>\n",
       "        <tr>\n",
       "            <td>Raul's Mexican food            </td> <td>4   </td> <td>4.2   </td> <td>1.5    </td> <td>Chile Verde Pork              </td> <td>5    </td>\n",
       "        </tr>\n",
       "        <tr>\n",
       "            <td>Raul's Mexican food            </td> <td>4   </td> <td>4.2   </td> <td>1.5    </td> <td>Carne Asada                   </td> <td>5    </td>\n",
       "        </tr>\n",
       "        <tr>\n",
       "            <td>Rigoberto's Taco Shop          </td> <td>4   </td> <td>4.4   </td> <td>3.92708</td> <td>Adobada                       </td> <td>6.6  </td>\n",
       "        </tr>\n",
       "        <tr>\n",
       "            <td>Rigoberto's Taco Shop          </td> <td>4   </td> <td>4.4   </td> <td>3.92708</td> <td>Al Pastor                     </td> <td>6.6  </td>\n",
       "        </tr>\n",
       "        <tr>\n",
       "            <td>Rigoberto's Taco Shop          </td> <td>4   </td> <td>4.4   </td> <td>3.92708</td> <td>Bacon Breakfast               </td> <td>6.25 </td>\n",
       "        </tr>\n",
       "        <tr>\n",
       "            <td>Rigoberto's Taco Shop          </td> <td>4   </td> <td>4.4   </td> <td>3.92708</td> <td>Bacon Breakfast               </td> <td>6.3  </td>\n",
       "        </tr>\n",
       "        <tr>\n",
       "            <td>Rigoberto's Taco Shop          </td> <td>4   </td> <td>4.4   </td> <td>3.92708</td> <td>California                    </td> <td>6.85 </td>\n",
       "        </tr>\n",
       "        <tr>\n",
       "            <td>Rigoberto's Taco Shop          </td> <td>4   </td> <td>4.4   </td> <td>3.92708</td> <td>Campeon                       </td> <td>7.65 </td>\n",
       "        </tr>\n",
       "        <tr>\n",
       "            <td>Rigoberto's Taco Shop          </td> <td>4   </td> <td>4.4   </td> <td>3.92708</td> <td>Carne Asada                   </td> <td>6.6  </td>\n",
       "        </tr>\n",
       "        <tr>\n",
       "            <td>Rigoberto's Taco Shop          </td> <td>4   </td> <td>4.4   </td> <td>3.92708</td> <td>Carnitas                      </td> <td>6.6  </td>\n",
       "        </tr>\n",
       "        <tr>\n",
       "            <td>Rigoberto's Taco Shop          </td> <td>4   </td> <td>4.4   </td> <td>3.92708</td> <td>Chile Relleno                 </td> <td>6.6  </td>\n",
       "        </tr>\n",
       "        <tr>\n",
       "            <td>Rigoberto's Taco Shop          </td> <td>4   </td> <td>4.4   </td> <td>3.92708</td> <td>El Rusio                      </td> <td>6.65 </td>\n",
       "        </tr>\n",
       "        <tr>\n",
       "            <td>Rigoberto's Taco Shop          </td> <td>4   </td> <td>4.4   </td> <td>3.92708</td> <td>Fish                          </td> <td>6    </td>\n",
       "        </tr>\n",
       "        <tr>\n",
       "            <td>Rigoberto's Taco Shop          </td> <td>4   </td> <td>4.4   </td> <td>3.92708</td> <td>Surf & Turf                   </td> <td>7.45 </td>\n",
       "        </tr>\n",
       "        <tr>\n",
       "            <td>Rigoberto's Taco Shop La Jolla </td> <td>2.5 </td> <td>4     </td> <td>3.6    </td> <td>California                    </td> <td>6.85 </td>\n",
       "        </tr>\n",
       "        <tr>\n",
       "            <td>Roberto's Taco Shop Clairemont </td> <td>4   </td> <td>4     </td> <td>3.4    </td> <td>California                    </td> <td>5.79 </td>\n",
       "        </tr>\n",
       "        <tr>\n",
       "            <td>Roberto's Taco Shop Clairemont </td> <td>4   </td> <td>4     </td> <td>3.4    </td> <td>California + Guac + Sour Cream</td> <td>7.29 </td>\n",
       "        </tr>\n",
       "        <tr>\n",
       "            <td>Roberto's Taco Shop Clairemont </td> <td>4   </td> <td>4     </td> <td>3.4    </td> <td>Carne Asada                   </td> <td>5.69 </td>\n",
       "        </tr>\n",
       "        <tr>\n",
       "            <td>Roberto's Taco Shop Hillcrest  </td> <td>4   </td> <td>4.2   </td> <td>3.48   </td> <td>Asada                         </td> <td>7    </td>\n",
       "        </tr>\n",
       "        <tr>\n",
       "            <td>Roberto's Taco Shop Hillcrest  </td> <td>4   </td> <td>4.2   </td> <td>3.48   </td> <td>California                    </td> <td>7    </td>\n",
       "        </tr>\n",
       "        <tr>\n",
       "            <td>Roberto's Taco Shop Hillcrest  </td> <td>4   </td> <td>4.2   </td> <td>3.48   </td> <td>California Surf And Turf      </td> <td>9    </td>\n",
       "        </tr>\n",
       "        <tr>\n",
       "            <td>Roberto's Taco Shop Hillcrest  </td> <td>4   </td> <td>4.2   </td> <td>3.48   </td> <td>Golden State                  </td> <td>25   </td>\n",
       "        </tr>\n",
       "        <tr>\n",
       "            <td>Roberto's Very Mexican Food    </td> <td>3.5 </td> <td>3.9   </td> <td>2.1    </td> <td>Carnitas                      </td> <td>5.4  </td>\n",
       "        </tr>\n",
       "        <tr>\n",
       "            <td>Roberto's Very Mexican Food    </td> <td>3.5 </td> <td>3.9   </td> <td>2.1    </td> <td>Chicken Asada                 </td> <td>6.5  </td>\n",
       "        </tr>\n",
       "        <tr>\n",
       "            <td>Rubios UCSD                    </td> <td>3.5 </td> <td>3.4   </td> <td>3.3    </td> <td>Grilled Fish Salmon           </td> <td>8.99 </td>\n",
       "        </tr>\n",
       "        <tr>\n",
       "            <td>Rubios UCSD                    </td> <td>3.5 </td> <td>3.4   </td> <td>3.3    </td> <td>Tilapia One                   </td> <td>7.99 </td>\n",
       "        </tr>\n",
       "        <tr>\n",
       "            <td>Rudy's Taco Shop               </td> <td>4   </td> <td>4.3   </td> <td>2.9    </td> <td>Carnitas                      </td> <td>6.6  </td>\n",
       "        </tr>\n",
       "        <tr>\n",
       "            <td>Rudy's Taco Shop               </td> <td>4   </td> <td>4.3   </td> <td>2.9    </td> <td>Chicken                       </td> <td>6.6  </td>\n",
       "        </tr>\n",
       "        <tr>\n",
       "            <td>Senor Grubby's                 </td> <td>4   </td> <td>4.1   </td> <td>1.65   </td> <td>California                    </td> <td>9    </td>\n",
       "        </tr>\n",
       "        <tr>\n",
       "            <td>Senor Grubby's                 </td> <td>4   </td> <td>4.1   </td> <td>1.65   </td> <td>Pastor                        </td> <td>9    </td>\n",
       "        </tr>\n",
       "        <tr>\n",
       "            <td>Senor Panchos                  </td> <td>4   </td> <td>4.2   </td> <td>3.45   </td> <td>California                    </td> <td>6.25 </td>\n",
       "        </tr>\n",
       "        <tr>\n",
       "            <td>Senor Panchos                  </td> <td>4   </td> <td>4.2   </td> <td>3.45   </td> <td>Pollo Asado                   </td> <td>6.25 </td>\n",
       "        </tr>\n",
       "        <tr>\n",
       "            <td>Sotos Mexican Food             </td> <td>4.5 </td> <td>4.6   </td> <td>3.35   </td> <td>California                    </td> <td>6.75 </td>\n",
       "        </tr>\n",
       "        <tr>\n",
       "            <td>Sotos Mexican Food             </td> <td>4.5 </td> <td>4.6   </td> <td>3.35   </td> <td>Pastor                        </td> <td>5.99 </td>\n",
       "        </tr>\n",
       "        <tr>\n",
       "            <td>Taco Stand                     </td> <td>4.5 </td> <td>4.4   </td> <td>4.225  </td> <td>Al Pastor                     </td> <td>6.99 </td>\n",
       "        </tr>\n",
       "        <tr>\n",
       "            <td>Taco Stand                     </td> <td>4.5 </td> <td>4.4   </td> <td>4.225  </td> <td>California                    </td> <td>7.49 </td>\n",
       "        </tr>\n",
       "        <tr>\n",
       "            <td>Taco Stand                     </td> <td>4.5 </td> <td>4.4   </td> <td>4.225  </td> <td>Surf And Turf                 </td> <td>8.49 </td>\n",
       "        </tr>\n",
       "        <tr>\n",
       "            <td>Taco Stand Encinitas           </td> <td>4   </td> <td>4.4   </td> <td>4.3    </td> <td>California                    </td> <td>7.89 </td>\n",
       "        </tr>\n",
       "        <tr>\n",
       "            <td>Taco Surf PB                   </td> <td>4   </td> <td>4.6   </td> <td>4.06667</td> <td>California                    </td> <td>7.14 </td>\n",
       "        </tr>\n",
       "        <tr>\n",
       "            <td>Taco Surf PB                   </td> <td>4   </td> <td>4.6   </td> <td>4.06667</td> <td>Carne Asada                   </td> <td>6.02 </td>\n",
       "        </tr>\n",
       "        <tr>\n",
       "            <td>Taco Villa                     </td> <td>3.5 </td> <td>3.5   </td> <td>3.44737</td> <td>California                    </td> <td>6.99 </td>\n",
       "        </tr>\n",
       "        <tr>\n",
       "            <td>Taco Villa                     </td> <td>3.5 </td> <td>3.5   </td> <td>3.44737</td> <td>Al Pastor                     </td> <td>6.99 </td>\n",
       "        </tr>\n",
       "        <tr>\n",
       "            <td>Taco Villa                     </td> <td>3.5 </td> <td>3.5   </td> <td>3.44737</td> <td>Bean & Cheese                 </td> <td>3.99 </td>\n",
       "        </tr>\n",
       "        <tr>\n",
       "            <td>Taco Villa                     </td> <td>3.5 </td> <td>3.5   </td> <td>3.44737</td> <td>Breakfast                     </td> <td>4.99 </td>\n",
       "        </tr>\n",
       "        <tr>\n",
       "            <td>Taco Villa                     </td> <td>3.5 </td> <td>3.5   </td> <td>3.44737</td> <td>California                    </td> <td>6.99 </td>\n",
       "        </tr>\n",
       "        <tr>\n",
       "            <td>Taco Villa                     </td> <td>3.5 </td> <td>3.5   </td> <td>3.44737</td> <td>Carne Asada                   </td> <td>6.99 </td>\n",
       "        </tr>\n",
       "        <tr>\n",
       "            <td>Taco Villa                     </td> <td>3.5 </td> <td>3.5   </td> <td>3.44737</td> <td>Carnitas                      </td> <td>5.99 </td>\n",
       "        </tr>\n",
       "        <tr>\n",
       "            <td>Taco Villa                     </td> <td>3.5 </td> <td>3.5   </td> <td>3.44737</td> <td>Chicken                       </td> <td>4.99 </td>\n",
       "        </tr>\n",
       "        <tr>\n",
       "            <td>Taco Villa                     </td> <td>3.5 </td> <td>3.5   </td> <td>3.44737</td> <td>Chicken And Rice              </td> <td>4.95 </td>\n",
       "        </tr>\n",
       "        <tr>\n",
       "            <td>Taco Villa                     </td> <td>3.5 </td> <td>3.5   </td> <td>3.44737</td> <td>Pollo Asado                   </td> <td>5.99 </td>\n",
       "        </tr>\n",
       "        <tr>\n",
       "            <td>Taco Villa                     </td> <td>3.5 </td> <td>3.5   </td> <td>3.44737</td> <td>Shrimp With Guac              </td> <td>7.49 </td>\n",
       "        </tr>\n",
       "        <tr>\n",
       "            <td>Taco Villa                     </td> <td>3.5 </td> <td>3.5   </td> <td>3.44737</td> <td>Tejano                        </td> <td>6.99 </td>\n",
       "        </tr>\n",
       "        <tr>\n",
       "            <td>Tacos La Bala                  </td> <td>4.5 </td> <td>4.1   </td> <td>2.45   </td> <td>Barbacoa                      </td> <td>4.99 </td>\n",
       "        </tr>\n",
       "        <tr>\n",
       "            <td>Tacos La Bala                  </td> <td>4.5 </td> <td>4.1   </td> <td>2.45   </td> <td>Pastor                        </td> <td>4.99 </td>\n",
       "        </tr>\n",
       "        <tr>\n",
       "            <td>Tacos por favor                </td> <td>4   </td> <td>4.1   </td> <td>3.66667</td> <td>Al Pastor                     </td> <td>6.85 </td>\n",
       "        </tr>\n",
       "        <tr>\n",
       "            <td>Tacos por favor                </td> <td>4   </td> <td>4.1   </td> <td>3.66667</td> <td>Carne Asada                   </td> <td>6.85 </td>\n",
       "        </tr>\n",
       "        <tr>\n",
       "            <td>Tony's Fresh Mexican Food      </td> <td>3   </td> <td>4.1   </td> <td>2.9125 </td> <td>California                    </td> <td>6.25 </td>\n",
       "        </tr>\n",
       "        <tr>\n",
       "            <td>Tony's Fresh Mexican Food      </td> <td>3   </td> <td>4.1   </td> <td>2.9125 </td> <td>Chile Verde Pork              </td> <td>6.95 </td>\n",
       "        </tr>\n",
       "        <tr>\n",
       "            <td>Tony's Fresh Mexican Food      </td> <td>3   </td> <td>4.1   </td> <td>2.9125 </td> <td>Battered Fish                 </td> <td>6.99 </td>\n",
       "        </tr>\n",
       "        <tr>\n",
       "            <td>Valentines Mexican Food        </td> <td>4   </td> <td>4     </td> <td>4.36667</td> <td>California                    </td> <td>7.9  </td>\n",
       "        </tr>\n",
       "        <tr>\n",
       "            <td>Valentines Mexican Food        </td> <td>4   </td> <td>4     </td> <td>4.36667</td> <td>California Chipotle           </td> <td>7.9  </td>\n",
       "        </tr>\n",
       "        <tr>\n",
       "            <td>Valentines Mexican Food        </td> <td>4   </td> <td>4     </td> <td>4.36667</td> <td>Carne Asada                   </td> <td>6.75 </td>\n",
       "        </tr>\n",
       "        <tr>\n",
       "            <td>Valentines Mexican Food        </td> <td>4   </td> <td>4     </td> <td>4.36667</td> <td>Pork California               </td> <td>7.9  </td>\n",
       "        </tr>\n",
       "        <tr>\n",
       "            <td>Vallarta express               </td> <td>3.5 </td> <td>4     </td> <td>3.5    </td> <td>California                    </td> <td>6.95 </td>\n",
       "        </tr>\n",
       "        <tr>\n",
       "            <td>Vallarta express               </td> <td>3.5 </td> <td>4     </td> <td>3.5    </td> <td>Carne Asada                   </td> <td>6.5  </td>\n",
       "        </tr>\n",
       "        <tr>\n",
       "            <td>Vallarta express               </td> <td>3.5 </td> <td>4     </td> <td>3.5    </td> <td>Fish                          </td> <td>6.5  </td>\n",
       "        </tr>\n",
       "        <tr>\n",
       "            <td>Vallarta express               </td> <td>3.5 </td> <td>4     </td> <td>3.5    </td> <td>Mahi                          </td> <td>7.3  </td>\n",
       "        </tr>\n",
       "        <tr>\n",
       "            <td>Vallarta express               </td> <td>3.5 </td> <td>4     </td> <td>3.5    </td> <td>Philly                        </td> <td>6.95 </td>\n",
       "        </tr>\n",
       "        <tr>\n",
       "            <td>Vallarta express               </td> <td>3.5 </td> <td>4     </td> <td>3.5    </td> <td>Quesa                         </td> <td>6.95 </td>\n",
       "        </tr>\n",
       "        <tr>\n",
       "            <td>Vallarta express               </td> <td>3.5 </td> <td>4     </td> <td>3.5    </td> <td>Quesaburro                    </td> <td>6.95 </td>\n",
       "        </tr>\n",
       "        <tr>\n",
       "            <td>Vallarta express               </td> <td>3.5 </td> <td>4     </td> <td>3.5    </td> <td>Surf And Turf                 </td> <td>7.65 </td>\n",
       "        </tr>\n",
       "    </tbody>\n",
       "</table>"
      ]
     },
     "metadata": {},
     "output_type": "display_data"
    }
   ],
   "execution_count": 8
  },
  {
   "cell_type": "code",
   "metadata": {
    "deletable": false,
    "editable": false,
    "ExecuteTime": {
     "end_time": "2025-05-19T03:53:50.372358Z",
     "start_time": "2025-05-19T03:53:50.363517Z"
    }
   },
   "source": [
    "grader.check(\"q1_1\")"
   ],
   "id": "6615dc6e5af69be1",
   "outputs": [
    {
     "data": {
      "text/plain": [
       "q1_1 results: All test cases passed!"
      ],
      "text/html": [
       "<p><strong><pre style='display: inline;'>q1_1</pre></strong> passed! 🙌</p>"
      ]
     },
     "execution_count": 9,
     "metadata": {},
     "output_type": "execute_result"
    }
   ],
   "execution_count": 9
  },
  {
   "cell_type": "markdown",
   "metadata": {},
   "source": [
    "<!-- BEGIN QUESTION -->\n",
    "\n",
    "---\n",
    "\n",
    "**Question 2.** Let's look at how the Yelp scores compare to the Google scores in the `burritos` table. First, assign `yelp_google_tbl` to a table only containing the columns `Yelp` and `Google`. Then, make a scatter plot with Yelp scores on the x-axis and the Google scores on the y-axis. **(8 Points)**\n"
   ],
   "id": "b5cfb6acf166c549"
  },
  {
   "cell_type": "code",
   "metadata": {
    "tags": [],
    "ExecuteTime": {
     "end_time": "2025-05-19T03:53:50.578050Z",
     "start_time": "2025-05-19T03:53:50.503093Z"
    }
   },
   "source": [
    "yelp_google_tbl = burritos.select(\"Yelp\", \"Google\")\n",
    "\n",
    "yelp_google_tbl.show(5)\n",
    "yelp_google_tbl.scatter(\"Yelp\", \"Google\")\n",
    "# Don't change/edit/remove the following line.\n",
    "# To help you make conclusions, we have plotted a straight line on the graph (y=x).\n",
    "plt.plot(np.arange(2.5,5,.5), np.arange(2.5,5,.5));"
   ],
   "id": "de180b85c045280d",
   "outputs": [
    {
     "data": {
      "text/plain": [
       "<IPython.core.display.HTML object>"
      ],
      "text/html": [
       "<table border=\"1\" class=\"dataframe\">\n",
       "    <thead>\n",
       "        <tr>\n",
       "            <th>Yelp</th> <th>Google</th>\n",
       "        </tr>\n",
       "    </thead>\n",
       "    <tbody>\n",
       "        <tr>\n",
       "            <td>3.5 </td> <td>3.9   </td>\n",
       "        </tr>\n",
       "        <tr>\n",
       "            <td>3.5 </td> <td>3.9   </td>\n",
       "        </tr>\n",
       "        <tr>\n",
       "            <td>4.5 </td> <td>4.8   </td>\n",
       "        </tr>\n",
       "        <tr>\n",
       "            <td>3.5 </td> <td>4.1   </td>\n",
       "        </tr>\n",
       "        <tr>\n",
       "            <td>3.5 </td> <td>4.1   </td>\n",
       "        </tr>\n",
       "    </tbody>\n",
       "</table>\n",
       "<p>... (207 rows omitted)</p>"
      ]
     },
     "metadata": {},
     "output_type": "display_data"
    },
    {
     "data": {
      "text/plain": [
       "<Figure size 500x500 with 1 Axes>"
      ],
      "image/png": "[encoded data removed]"
     },
     "metadata": {},
     "output_type": "display_data"
    }
   ],
   "execution_count": 10
  },
  {
   "cell_type": "markdown",
   "metadata": {},
   "source": [
    "<!-- END QUESTION -->\n",
    "\n",
    "<!-- BEGIN QUESTION -->\n",
    "\n",
    "---\n",
    "\n",
    "**Question 3.** Looking at the scatter plot you just made in Question 1.2, do you notice any pattern(s) or relationships between Yelp and Google ratings (i.e. is one of the two types of scores consistently higher than the other one)? If so, describe them **briefly** in the cell below. **(8 Points)**\n"
   ],
   "id": "a41c7aa195679f5f"
  },
  {
   "cell_type": "markdown",
   "metadata": {},
   "source": "Google scores seem higher, I don't fucking have any idea, what the fuck is wrong with this ?",
   "id": "79b9b79685dc5b01"
  },
  {
   "cell_type": "markdown",
   "metadata": {},
   "source": [
    "<!-- END QUESTION -->\n",
    "\n",
    "Here's a refresher on how `.group` works! You can read how `.group` works in the [textbook](https://www.inferentialthinking.com/chapters/08/2/Classifying_by_One_Variable.html), or you can view the video below. The video resource was made by a past staff member, Divyesh Chotai!\n",
    "\n",
    "You can also use the [Table Functions Visualizer](http://data8.org/interactive_table_functions/) to get some more hands-on experience with the `.group` function."
   ],
   "id": "b5a8a8c6e255852f"
  },
  {
   "cell_type": "code",
   "metadata": {
    "ExecuteTime": {
     "end_time": "2025-05-19T03:53:51.355181Z",
     "start_time": "2025-05-19T03:53:50.705661Z"
    }
   },
   "source": [
    "# Don't worry about what this code does! It simply embeds a YouTube video into a code cell.\n",
    "from IPython.display import YouTubeVideo\n",
    "YouTubeVideo(\"HLoYTCUP0fc\")"
   ],
   "id": "f7b69b8f63d6f83e",
   "outputs": [
    {
     "data": {
      "text/plain": [
       "<IPython.lib.display.YouTubeVideo at 0x113d73e50>"
      ],
      "text/html": [
       "\n",
       "        <iframe\n",
       "            width=\"400\"\n",
       "            height=\"300\"\n",
       "            src=\"https://www.youtube.com/embed/HLoYTCUP0fc\"\n",
       "            frameborder=\"0\"\n",
       "            allowfullscreen\n",
       "            \n",
       "        ></iframe>\n",
       "        "
      ],
      "image/jpeg": "[encoded data removed]"
     },
     "execution_count": 11,
     "metadata": {},
     "output_type": "execute_result"
    }
   ],
   "execution_count": 11
  },
  {
   "cell_type": "markdown",
   "metadata": {},
   "source": [
    "---\n",
    "\n",
    "**Question 4.** There are so many types of California burritos in the `burritos` table! Gamy wants to consider his options for burritos based on rankings. For the sake of these questions, we are treating each menu item's rating the same as its respective restaurant's, as we do not have the rating of every single item at these restaurants. You do not need to worry about this fact, but we thought to mention it!\n",
    "\n",
    "Create a table with two columns: the first column include the **names of the burritos** and the second column should contain the **average overall rating** of that burrito across restaurants. **In your calculations, you should only compare burritos that contain the word \"California\".** For example, there are \"California\" burritos, \"California Breakfast\" burritos, \"California Surf And Turf\" burritos, etc. **(9 Points)**\n",
    "\n",
    "*Hint:* “California” is case sensitive (“California” is not the same as “california”), so make sure to capitalize the C! \n",
    "\n",
    "*Note:* For reference, the staff solution only used one line. However, feel free to break up the solution into multiple lines and steps; just make sure you assign the final output table to `california_burritos`! \n"
   ],
   "id": "f5c74c687ef8326f"
  },
  {
   "cell_type": "code",
   "metadata": {
    "tags": [],
    "ExecuteTime": {
     "end_time": "2025-05-19T03:53:51.377089Z",
     "start_time": "2025-05-19T03:53:51.369988Z"
    }
   },
   "source": [
    "california_burritos = burritos.where('Menu_Item', are.containing('California')).select('Menu_Item', 'Overall').group('Menu_Item', np.average)\n",
    "california_burritos"
   ],
   "id": "49fb002bb6a56713",
   "outputs": [
    {
     "data": {
      "text/plain": [
       "Menu_Item                      | Overall average\n",
       "California                     | 3.5242\n",
       "California (Only Cheese)       | 4.1\n",
       "California + Guac + Sour Cream | 3.4\n",
       "California - Chicken           | 3.45839\n",
       "California - Pork Adobada      | 3.26429\n",
       "California - Steak             | 3.26429\n",
       "California Breakfast           | 2.75833\n",
       "California Chicken             | 3.54815\n",
       "California Chipotle            | 4.36667\n",
       "California Everything          | 4.1\n",
       "... (9 rows omitted)"
      ],
      "text/html": [
       "<table border=\"1\" class=\"dataframe\">\n",
       "    <thead>\n",
       "        <tr>\n",
       "            <th>Menu_Item</th> <th>Overall average</th>\n",
       "        </tr>\n",
       "    </thead>\n",
       "    <tbody>\n",
       "        <tr>\n",
       "            <td>California                    </td> <td>3.5242         </td>\n",
       "        </tr>\n",
       "        <tr>\n",
       "            <td>California (Only Cheese)      </td> <td>4.1            </td>\n",
       "        </tr>\n",
       "        <tr>\n",
       "            <td>California + Guac + Sour Cream</td> <td>3.4            </td>\n",
       "        </tr>\n",
       "        <tr>\n",
       "            <td>California - Chicken          </td> <td>3.45839        </td>\n",
       "        </tr>\n",
       "        <tr>\n",
       "            <td>California - Pork Adobada     </td> <td>3.26429        </td>\n",
       "        </tr>\n",
       "        <tr>\n",
       "            <td>California - Steak            </td> <td>3.26429        </td>\n",
       "        </tr>\n",
       "        <tr>\n",
       "            <td>California Breakfast          </td> <td>2.75833        </td>\n",
       "        </tr>\n",
       "        <tr>\n",
       "            <td>California Chicken            </td> <td>3.54815        </td>\n",
       "        </tr>\n",
       "        <tr>\n",
       "            <td>California Chipotle           </td> <td>4.36667        </td>\n",
       "        </tr>\n",
       "        <tr>\n",
       "            <td>California Everything         </td> <td>4.1            </td>\n",
       "        </tr>\n",
       "    </tbody>\n",
       "</table>\n",
       "<p>... (9 rows omitted)</p>"
      ]
     },
     "execution_count": 12,
     "metadata": {},
     "output_type": "execute_result"
    }
   ],
   "execution_count": 12
  },
  {
   "cell_type": "code",
   "metadata": {
    "deletable": false,
    "editable": false,
    "ExecuteTime": {
     "end_time": "2025-05-19T03:53:51.449147Z",
     "start_time": "2025-05-19T03:53:51.444916Z"
    }
   },
   "source": [
    "grader.check(\"q1_4\")"
   ],
   "id": "e75cdb6d0e06d60a",
   "outputs": [
    {
     "data": {
      "text/plain": [
       "q1_4 results: All test cases passed!"
      ],
      "text/html": [
       "<p><strong><pre style='display: inline;'>q1_4</pre></strong> passed! 🎉</p>"
      ]
     },
     "execution_count": 13,
     "metadata": {},
     "output_type": "execute_result"
    }
   ],
   "execution_count": 13
  },
  {
   "cell_type": "markdown",
   "metadata": {},
   "source": [
    "    ---\n",
    "\n",
    "**Question 5.** Given this new table `california_burritos`, Andrew can figure out the name of the California burrito with the highest overall average rating! Assign `best_california_burrito` to a line of code that outputs the string that represents the name of the California burrito with the highest overall average rating. If multiple burritos satisfy this criteria, you can output any one of them. **(8 Points)**\n"
   ],
   "id": "f1adb95df3abad86"
  },
  {
   "cell_type": "code",
   "metadata": {
    "tags": [],
    "ExecuteTime": {
     "end_time": "2025-05-19T03:53:51.613990Z",
     "start_time": "2025-05-19T03:53:51.609843Z"
    }
   },
   "source": [
    "best_california_burrito = california_burritos.sort(\"Overall average\", descending=True).column(\"Menu_Item\").item(0)\n",
    "best_california_burrito"
   ],
   "id": "7495b0b3556d1d95",
   "outputs": [
    {
     "data": {
      "text/plain": [
       "'California Chipotle'"
      ]
     },
     "execution_count": 14,
     "metadata": {},
     "output_type": "execute_result"
    }
   ],
   "execution_count": 14
  },
  {
   "cell_type": "code",
   "metadata": {
    "deletable": false,
    "editable": false,
    "ExecuteTime": {
     "end_time": "2025-05-19T03:53:51.798006Z",
     "start_time": "2025-05-19T03:53:51.779626Z"
    }
   },
   "source": [
    "grader.check(\"q1_5\")"
   ],
   "id": "83b6573cf62a4660",
   "outputs": [
    {
     "data": {
      "text/plain": [
       "q1_5 results: All test cases passed!"
      ],
      "text/html": [
       "<p><strong><pre style='display: inline;'>q1_5</pre></strong> passed! 💯</p>"
      ]
     },
     "execution_count": 15,
     "metadata": {},
     "output_type": "execute_result"
    }
   ],
   "execution_count": 15
  },
  {
   "cell_type": "markdown",
   "metadata": {},
   "source": [
    "import numpy as np\n",
    "\n",
    "cost_bins = np.arange(0, 15, 1)  # Do not change this line\n",
    "\n",
    "burritos.where('City', 'San Diego').hist('Cost', bins=cost_bins)\n",
    "    <!-- BEGIN QUESTION -->\n",
    "\n",
    "---\n",
    "\n",
    "**Question 6.** Edwin thinks that burritos in San Diego are cheaper (and taste better) than the burritos in Berkeley. Plot a histogram that visualizes that distribution of the costs of the burritos from San Diego in the `burritos` table. Also use the provided `cost_bins` variable when making your histogram, so that the histogram is more visually informative. **(8 Points)**\n"
   ],
   "id": "5b99f6c53e5731df"
  },
  {
   "cell_type": "code",
   "metadata": {
    "tags": [],
    "ExecuteTime": {
     "end_time": "2025-05-19T03:53:52.104672Z",
     "start_time": "2025-05-19T03:53:51.895050Z"
    }
   },
   "source": [
    "cost_bins = np.arange(0, 15, 1)\n",
    "\n",
    "burritos.where('Name', 'California').hist('Cost', bins=cost_bins)\n"
   ],
   "id": "aeba538901c6aac1",
   "outputs": [
    {
     "data": {
      "text/plain": [
       "<Figure size 600x400 with 1 Axes>"
      ],
      "image/png": "[encoded data removed]"
     },
     "metadata": {},
     "output_type": "display_data"
    }
   ],
   "execution_count": 16
  },
  {
   "cell_type": "markdown",
   "metadata": {},
   "source": [
    "<!-- END QUESTION -->\n",
    "\n",
    "---\n",
    "\n",
    "**Question 7.** What percentage of burritos in San Diego are less than $6? Assign `burritos_less_than_six` to your answer, **which should be between 0 and 100**. You should only use the histogram above to answer the question. Do not use code on the table to to find the answer, just eyeball the heights and use Python to evaluate your arithmetic! **(8 Points)**\n",
    "\n",
    "*Note*: Your answer does not have to be exact, but it should be within a couple percentages of the staff answer.\n",
    "\n",
    "*Hint:* It might be helpful to review [Section 7.2](https://inferentialthinking.com/chapters/07/2/Visualizing_Numerical_Distributions.html) of the textbook about calculating percentages from histograms.\n"
   ],
   "id": "effdc278ea4ce39b"
  },
  {
   "cell_type": "code",
   "metadata": {
    "tags": [],
    "ExecuteTime": {
     "end_time": "2025-05-19T03:53:52.145960Z",
     "start_time": "2025-05-19T03:53:52.142945Z"
    }
   },
   "source": [
    "burritos_less_than_six = ..."
   ],
   "id": "82ed523225b89399",
   "outputs": [],
   "execution_count": 17
  },
  {
   "cell_type": "code",
   "metadata": {
    "deletable": false,
    "editable": false,
    "ExecuteTime": {
     "end_time": "2025-05-19T03:53:52.203365Z",
     "start_time": "2025-05-19T03:53:52.184408Z"
    }
   },
   "source": [
    "grader.check(\"q1_7\")"
   ],
   "id": "98f1c75fcbdc2375",
   "outputs": [
    {
     "data": {
      "text/plain": [
       "q1_7 results:\n",
       "    q1_7 - 1 result:\n",
       "        ❌ Test case failed\n",
       "        Trying:\n",
       "            0 <= burritos_less_than_six <= 100\n",
       "        Expecting:\n",
       "            True\n",
       "        **********************************************************************\n",
       "        Line 2, in q1_7 0\n",
       "        Failed example:\n",
       "            0 <= burritos_less_than_six <= 100\n",
       "        Exception raised:\n",
       "            Traceback (most recent call last):\n",
       "              File \"/Applications/Xcode.app/Contents/Developer/Library/Frameworks/Python3.framework/Versions/3.9/lib/python3.9/doctest.py\", line 1336, in __run\n",
       "                exec(compile(example.source, filename, \"single\",\n",
       "              File \"<doctest q1_7 0[0]>\", line 1, in <module>\n",
       "                0 <= burritos_less_than_six <= 100\n",
       "            TypeError: '<=' not supported between instances of 'int' and 'ellipsis'"
      ],
      "text/html": [
       "<p><strong style='color: red;'><pre style='display: inline;'>q1_7</pre> results:</strong></p><p><strong><pre style='display: inline;'>q1_7 - 1</pre> result:</strong></p><pre>    ❌ Test case failed\n",
       "    Trying:\n",
       "        0 <= burritos_less_than_six <= 100\n",
       "    Expecting:\n",
       "        True\n",
       "    **********************************************************************\n",
       "    Line 2, in q1_7 0\n",
       "    Failed example:\n",
       "        0 <= burritos_less_than_six <= 100\n",
       "    Exception raised:\n",
       "        Traceback (most recent call last):\n",
       "          File \"/Applications/Xcode.app/Contents/Developer/Library/Frameworks/Python3.framework/Versions/3.9/lib/python3.9/doctest.py\", line 1336, in __run\n",
       "            exec(compile(example.source, filename, \"single\",\n",
       "          File \"<doctest q1_7 0[0]>\", line 1, in <module>\n",
       "            0 <= burritos_less_than_six <= 100\n",
       "        TypeError: '<=' not supported between instances of 'int' and 'ellipsis'\n",
       "</pre>"
      ]
     },
     "execution_count": 18,
     "metadata": {},
     "output_type": "execute_result"
    }
   ],
   "execution_count": 18
  },
  {
   "cell_type": "markdown",
   "metadata": {},
   "source": [
    "<hr style=\"border: 5px solid #003262;\" />\n",
    "<hr style=\"border: 1px solid #fdb515;\" />\n",
    "\n",
    "## 2. San Francisco City Employee Salaries"
   ],
   "id": "9a52501fa40182b4"
  },
  {
   "attachments": {},
   "cell_type": "markdown",
   "metadata": {},
   "source": [
    "This exercise is designed to give you practice with using the Table methods `.pivot` and `.group`. Here is a link to the [Python Reference](http://data8.org/su24/reference/) in case you need a quick refresher. The [Table Function Visualizer](http://data8.org/interactive_table_functions/) may also be a helpful tool.\n",
    "\n",
    "Run the cell below to view a demo on how you can use pivot on a table. (Thank you to past staff Divyesh Chotai!) "
   ],
   "id": "563ab9e8fd4dfcf0"
  },
  {
   "cell_type": "code",
   "metadata": {
    "scrolled": true,
    "ExecuteTime": {
     "end_time": "2025-05-19T03:53:52.441780Z",
     "start_time": "2025-05-19T03:53:52.245196Z"
    }
   },
   "source": [
    "# Don't worry about what this code does! It simply embeds a YouTube video into a code cell.\n",
    "from IPython.display import YouTubeVideo\n",
    "YouTubeVideo(\"4WzXo8eKLAg\")\n"
   ],
   "id": "85f94ca7dcaa7074",
   "outputs": [
    {
     "data": {
      "text/plain": [
       "<IPython.lib.display.YouTubeVideo at 0x113d73c40>"
      ],
      "text/html": [
       "\n",
       "        <iframe\n",
       "            width=\"400\"\n",
       "            height=\"300\"\n",
       "            src=\"https://www.youtube.com/embed/4WzXo8eKLAg\"\n",
       "            frameborder=\"0\"\n",
       "            allowfullscreen\n",
       "            \n",
       "        ></iframe>\n",
       "        "
      ],
      "image/jpeg": "[encoded data removed]"
     },
     "execution_count": 19,
     "metadata": {},
     "output_type": "execute_result"
    }
   ],
   "execution_count": 19
  },
  {
   "cell_type": "markdown",
   "metadata": {},
   "source": [
    "The data source we will use within this portion of the homework is [publicly provided](https://data.sfgov.org/City-Management-and-Ethics/Employee-Compensation/88g8-5mnd/data) by the City of San Francisco. We have filtered it to retain just the relevant columns and restricted the data to the calendar year 2019. Run the following cell to load our data into a table called `full_sf`."
   ],
   "id": "5ccf68f5c5eb937c"
  },
  {
   "cell_type": "code",
   "metadata": {
    "ExecuteTime": {
     "end_time": "2025-05-19T03:53:52.697751Z",
     "start_time": "2025-05-19T03:53:52.465690Z"
    }
   },
   "source": [
    "full_sf = Table.read_table(\"sf2019.csv\")\n",
    "full_sf.show(5)"
   ],
   "id": "882cdf79198f56e0",
   "outputs": [
    {
     "data": {
      "text/plain": [
       "<IPython.core.display.HTML object>"
      ],
      "text/html": [
       "<table border=\"1\" class=\"dataframe\">\n",
       "    <thead>\n",
       "        <tr>\n",
       "            <th>Organization Group</th> <th>Department</th> <th>Job Family</th> <th>Job</th> <th>Salary</th> <th>Overtime</th> <th>Benefits</th> <th>Total Compensation</th>\n",
       "        </tr>\n",
       "    </thead>\n",
       "    <tbody>\n",
       "        <tr>\n",
       "            <td>Public Protection </td> <td>Adult Probation</td> <td>Information Systems</td> <td>IS Trainer-Journey           </td> <td>91332 </td> <td>0       </td> <td>40059   </td> <td>131391            </td>\n",
       "        </tr>\n",
       "        <tr>\n",
       "            <td>Public Protection </td> <td>Adult Probation</td> <td>Information Systems</td> <td>IS Engineer-Assistant        </td> <td>123241</td> <td>0       </td> <td>49279   </td> <td>172520            </td>\n",
       "        </tr>\n",
       "        <tr>\n",
       "            <td>Public Protection </td> <td>Adult Probation</td> <td>Information Systems</td> <td>IS Business Analyst-Senior   </td> <td>115715</td> <td>0       </td> <td>46752   </td> <td>162468            </td>\n",
       "        </tr>\n",
       "        <tr>\n",
       "            <td>Public Protection </td> <td>Adult Probation</td> <td>Information Systems</td> <td>IS Business Analyst-Principal</td> <td>159394</td> <td>0       </td> <td>57312   </td> <td>216706            </td>\n",
       "        </tr>\n",
       "        <tr>\n",
       "            <td>Public Protection </td> <td>Adult Probation</td> <td>Information Systems</td> <td>IS Programmer Analyst        </td> <td>70035 </td> <td>0       </td> <td>28671   </td> <td>98706             </td>\n",
       "        </tr>\n",
       "    </tbody>\n",
       "</table>\n",
       "<p>... (44520 rows omitted)</p>"
      ]
     },
     "metadata": {},
     "output_type": "display_data"
    }
   ],
   "execution_count": 20
  },
  {
   "cell_type": "markdown",
   "metadata": {},
   "source": [
    "The table has one row for each of the 44,525 San Francisco government employees in 2019.\n",
    "\n",
    "The first four columns describe the employee's job. For example, the employee in the third row of the table had a job called \"IS Business Analyst-Senior\". We will call this the employee's *position* or *job title*. The job was in a Job Family called Information Systems (hence the IS in the job title), and was in the Adult Probation Department that is part of the Public Protection Organization Group of the government. You will mostly be working with the `Job` column.\n",
    "\n",
    "The next three columns contain the dollar amounts paid to the employee in the calendar year 2019 for salary, overtime, and benefits. Note that an employee’s salary does not include their overtime earnings.\n",
    "\n",
    "The last column contains the total compensation paid to the employee. It is the sum of the previous three columns:\n",
    "\n",
    "$$\\text{Total Compensation} = \\text{Salary} + \\text{Overtime} + \\text{Benefits}$$\n",
    "\n",
    "For this homework, we will be using the following columns:\n",
    "1. `Organization Group`: A group of departments. For example, the Public Protection Org. Group includes departments such as the Police, Fire, Adult Protection, District Attorney, etc.\n",
    "2. `Department`: The primary organizational unit used by the City and County of San Francisco.\n",
    "3. `Job`: The specific position that a given worker fills.\n",
    "4. `Total Compensation`: The sum of a worker's salary, overtime, and benefits in 2019.\n",
    "\n",
    "\n",
    "Run the following cell to select the relevant columns and create a new table named `sf`."
   ],
   "id": "d9a3e9f79c9daa19"
  },
  {
   "cell_type": "code",
   "metadata": {
    "ExecuteTime": {
     "end_time": "2025-05-19T03:53:52.761150Z",
     "start_time": "2025-05-19T03:53:52.740675Z"
    }
   },
   "source": [
    "sf = full_sf.select(\"Job\", \"Department\", \"Organization Group\",  \"Total Compensation\")\n",
    "sf.show(5)"
   ],
   "id": "6e0f9e0a4bcdd069",
   "outputs": [
    {
     "data": {
      "text/plain": [
       "<IPython.core.display.HTML object>"
      ],
      "text/html": [
       "<table border=\"1\" class=\"dataframe\">\n",
       "    <thead>\n",
       "        <tr>\n",
       "            <th>Job</th> <th>Department</th> <th>Organization Group</th> <th>Total Compensation</th>\n",
       "        </tr>\n",
       "    </thead>\n",
       "    <tbody>\n",
       "        <tr>\n",
       "            <td>IS Trainer-Journey           </td> <td>Adult Probation</td> <td>Public Protection </td> <td>131391            </td>\n",
       "        </tr>\n",
       "        <tr>\n",
       "            <td>IS Engineer-Assistant        </td> <td>Adult Probation</td> <td>Public Protection </td> <td>172520            </td>\n",
       "        </tr>\n",
       "        <tr>\n",
       "            <td>IS Business Analyst-Senior   </td> <td>Adult Probation</td> <td>Public Protection </td> <td>162468            </td>\n",
       "        </tr>\n",
       "        <tr>\n",
       "            <td>IS Business Analyst-Principal</td> <td>Adult Probation</td> <td>Public Protection </td> <td>216706            </td>\n",
       "        </tr>\n",
       "        <tr>\n",
       "            <td>IS Programmer Analyst        </td> <td>Adult Probation</td> <td>Public Protection </td> <td>98706             </td>\n",
       "        </tr>\n",
       "    </tbody>\n",
       "</table>\n",
       "<p>... (44520 rows omitted)</p>"
      ]
     },
     "metadata": {},
     "output_type": "display_data"
    }
   ],
   "execution_count": 21
  },
  {
   "cell_type": "markdown",
   "metadata": {},
   "source": [
    "We want to use this table to generate arrays with the job titles of the members of each **Organization Group**."
   ],
   "id": "5702694ecbd38c7c"
  },
  {
   "attachments": {},
   "cell_type": "markdown",
   "metadata": {},
   "source": [
    "---\n",
    "\n",
    "**Question 1.** Set `job_titles` to a table with two columns. The first column should be called `Organization Group` and have the name of every \"Organization Group\" each listed only once in this column, and the second column should be called `Jobs` with each row in that second column containing an *array* of the names of all the job titles within that \"Organization Group\". Don't worry if there are multiple of the same job titles. **(9 Points)**\n",
    "\n",
    "*Hint 1:* Think about how `group` works: it collects values into an array and then applies a function to that array. We have defined two functions below for you, and you will need to use one of them in your call to `group`. \n",
    "\n",
    "*Hint 2:* You might need to rename one of the columns.\n"
   ],
   "id": "410c9613da77f48a"
  },
  {
   "cell_type": "code",
   "metadata": {
    "tags": [],
    "ExecuteTime": {
     "end_time": "2025-05-19T03:53:53.343321Z",
     "start_time": "2025-05-19T03:53:52.985078Z"
    }
   },
   "source": [
    "# Pick one of the two functions defined below in your call to group.\n",
    "def first_item(array):\n",
    "    '''Returns the first item'''\n",
    "    return array.item(0)\n",
    "\n",
    "def full_array(array):\n",
    "    '''Returns the array that is passed through'''\n",
    "    return array \n",
    "\n",
    "# Make a call to group using one of the functions above when you define job_titles\n",
    "new_job_table = sf.select(\"Organization Group\", \"Job\")\n",
    "job_titles = new_job_table.group(\"Organization Group\", collect=full_array).relabel(\"Job full_array\", \"Jobs\")\n",
    "\n",
    "job_titles"
   ],
   "id": "c754607fec147334",
   "outputs": [
    {
     "data": {
      "text/plain": [
       "Organization Group                       | Jobs\n",
       "Community Health                         | ['Painter Supervisor 1' 'Painter' 'Painter' ..., 'Nursin ...\n",
       "Culture & Recreation                     | ['Electrician' 'Executive Secretary 2' 'Bldgs & Grounds  ...\n",
       "General Administration & Finance         | ['Painter' 'Painter' 'Electrician' ..., 'Investigator, T ...\n",
       "Human Welfare & Neighborhood Development | ['Dept Head I' 'Administrative Analyst' 'Community Devel ...\n",
       "Public Protection                        | ['IS Trainer-Journey' 'IS Engineer-Assistant' 'IS Busine ...\n",
       "Public Works, Transportation & Commerce  | ['Heavy Equip Ops Asst Sprv' 'Heavy Equipment Ops Sprv'\n",
       " ..."
      ],
      "text/html": [
       "<table border=\"1\" class=\"dataframe\">\n",
       "    <thead>\n",
       "        <tr>\n",
       "            <th>Organization Group</th> <th>Jobs</th>\n",
       "        </tr>\n",
       "    </thead>\n",
       "    <tbody>\n",
       "        <tr>\n",
       "            <td>Community Health                        </td> <td>['Painter Supervisor 1' 'Painter' 'Painter' ..., 'Nursin ...</td>\n",
       "        </tr>\n",
       "        <tr>\n",
       "            <td>Culture & Recreation                    </td> <td>['Electrician' 'Executive Secretary 2' 'Bldgs & Grounds  ...</td>\n",
       "        </tr>\n",
       "        <tr>\n",
       "            <td>General Administration & Finance        </td> <td>['Painter' 'Painter' 'Electrician' ..., 'Investigator, T ...</td>\n",
       "        </tr>\n",
       "        <tr>\n",
       "            <td>Human Welfare & Neighborhood Development</td> <td>['Dept Head I' 'Administrative Analyst' 'Community Devel ...</td>\n",
       "        </tr>\n",
       "        <tr>\n",
       "            <td>Public Protection                       </td> <td>['IS Trainer-Journey' 'IS Engineer-Assistant' 'IS Busine ...</td>\n",
       "        </tr>\n",
       "        <tr>\n",
       "            <td>Public Works, Transportation & Commerce </td> <td>['Heavy Equip Ops Asst Sprv' 'Heavy Equipment Ops Sprv'\n",
       " ...</td>\n",
       "        </tr>\n",
       "    </tbody>\n",
       "</table>"
      ]
     },
     "execution_count": 22,
     "metadata": {},
     "output_type": "execute_result"
    }
   ],
   "execution_count": 22
  },
  {
   "cell_type": "code",
   "metadata": {
    "deletable": false,
    "editable": false,
    "ExecuteTime": {
     "end_time": "2025-05-19T03:53:53.476Z",
     "start_time": "2025-05-19T03:53:53.463363Z"
    }
   },
   "source": [
    "grader.check(\"q2_1\")"
   ],
   "id": "12a954d41b073bce",
   "outputs": [
    {
     "data": {
      "text/plain": [
       "q2_1 results: All test cases passed!"
      ],
      "text/html": [
       "<p><strong><pre style='display: inline;'>q2_1</pre></strong> passed! 🎉</p>"
      ]
     },
     "execution_count": 23,
     "metadata": {},
     "output_type": "execute_result"
    }
   ],
   "execution_count": 23
  },
  {
   "cell_type": "markdown",
   "metadata": {},
   "source": [
    "<!-- BEGIN QUESTION -->\n",
    "\n",
    "---\n",
    "\n",
    "**Question 2.** At the moment, the `Job` column of the `sf` table is not sorted (no particular order). Would the arrays you generated in the `Jobs` column of the previous question be the same if we had sorted alphabetically instead before generating them? Explain your answer. To receive full credit, your answer should reference *how* the `.group` method works, and how sorting the `Jobs` column would affect this.  **(8 Points)**\n",
    "\n",
    "*Note:* Two arrays are the **same** if they contain the same number of elements and the elements located at corresponding indexes in the two arrays are identical. An example of arrays that are NOT the same: `array([1,2]) != array([2,1])`.\n"
   ],
   "id": "6839275b3037fe66"
  },
  {
   "cell_type": "markdown",
   "metadata": {},
   "source": "it would not be the same if we sorted alphabetically before grouping them, because .group keeps the original order of rows in the table when collecting values so the order would change",
   "id": "6c33f3900fea2d31"
  },
  {
   "cell_type": "markdown",
   "metadata": {},
   "source": [
    "<!-- END QUESTION -->\n",
    "\n",
    "---\n",
    "\n",
    "**Question 3.** Set `department_ranges` to a table containing departments as the rows, and the organization groups as the columns. The values in the rows should correspond to a total compensation range, where range is defined as the **difference between the highest total compensation and the lowest total compensation in the department for that organization group**. **(9 Points)**\n",
    "\n",
    "*Hint:* First you'll need to define a new function `compensation_range` which takes in an array of compensations and returns the range of compensations in that array.\n"
   ],
   "id": "abc38851fc3219a5"
  },
  {
   "cell_type": "code",
   "metadata": {
    "tags": [],
    "ExecuteTime": {
     "end_time": "2025-05-19T03:53:53.915366Z",
     "start_time": "2025-05-19T03:53:53.628561Z"
    }
   },
   "source": [
    "# Define compensation_range first\n",
    "def compensation_range(array):\n",
    "    return array.max() - array.min()\n",
    "\n",
    "department_ranges = sf.pivot(\"Organization Group\", \"Department\", \"Total Compensation\", compensation_range)\n",
    "department_ranges"
   ],
   "id": "eb410f0707ae038f",
   "outputs": [
    {
     "data": {
      "text/plain": [
       "Department              | Community Health | Culture & Recreation | General Administration & Finance | Human Welfare & Neighborhood Development | Public Protection | Public Works, Transportation & Commerce\n",
       "Academy Of Sciences     | 0                | 199121               | 0                                | 0                                        | 0                 | 0\n",
       "Administrative Services | 0                | 0                    | 478784                           | 0                                        | 0                 | 0\n",
       "Adult Probation         | 0                | 0                    | 0                                | 0                                        | 303419            | 0\n",
       "Airport Commission      | 0                | 0                    | 0                                | 0                                        | 0                 | 445092\n",
       "Art Commission          | 0                | 251823               | 0                                | 0                                        | 0                 | 0\n",
       "Asian Art Museum        | 0                | 298230               | 0                                | 0                                        | 0                 | 0\n",
       "Assessor                | 0                | 0                    | 277385                           | 0                                        | 0                 | 0\n",
       "Board Of Appeals        | 0                | 0                    | 0                                | 0                                        | 0                 | 243582\n",
       "Board Of Supervisors    | 0                | 0                    | 293773                           | 0                                        | 0                 | 0\n",
       "Building Inspection     | 0                | 0                    | 0                                | 0                                        | 0                 | 340852\n",
       "... (41 rows omitted)"
      ],
      "text/html": [
       "<table border=\"1\" class=\"dataframe\">\n",
       "    <thead>\n",
       "        <tr>\n",
       "            <th>Department</th> <th>Community Health</th> <th>Culture & Recreation</th> <th>General Administration & Finance</th> <th>Human Welfare & Neighborhood Development</th> <th>Public Protection</th> <th>Public Works, Transportation & Commerce</th>\n",
       "        </tr>\n",
       "    </thead>\n",
       "    <tbody>\n",
       "        <tr>\n",
       "            <td>Academy Of Sciences    </td> <td>0               </td> <td>199121              </td> <td>0                               </td> <td>0                                       </td> <td>0                </td> <td>0                                      </td>\n",
       "        </tr>\n",
       "        <tr>\n",
       "            <td>Administrative Services</td> <td>0               </td> <td>0                   </td> <td>478784                          </td> <td>0                                       </td> <td>0                </td> <td>0                                      </td>\n",
       "        </tr>\n",
       "        <tr>\n",
       "            <td>Adult Probation        </td> <td>0               </td> <td>0                   </td> <td>0                               </td> <td>0                                       </td> <td>303419           </td> <td>0                                      </td>\n",
       "        </tr>\n",
       "        <tr>\n",
       "            <td>Airport Commission     </td> <td>0               </td> <td>0                   </td> <td>0                               </td> <td>0                                       </td> <td>0                </td> <td>445092                                 </td>\n",
       "        </tr>\n",
       "        <tr>\n",
       "            <td>Art Commission         </td> <td>0               </td> <td>251823              </td> <td>0                               </td> <td>0                                       </td> <td>0                </td> <td>0                                      </td>\n",
       "        </tr>\n",
       "        <tr>\n",
       "            <td>Asian Art Museum       </td> <td>0               </td> <td>298230              </td> <td>0                               </td> <td>0                                       </td> <td>0                </td> <td>0                                      </td>\n",
       "        </tr>\n",
       "        <tr>\n",
       "            <td>Assessor               </td> <td>0               </td> <td>0                   </td> <td>277385                          </td> <td>0                                       </td> <td>0                </td> <td>0                                      </td>\n",
       "        </tr>\n",
       "        <tr>\n",
       "            <td>Board Of Appeals       </td> <td>0               </td> <td>0                   </td> <td>0                               </td> <td>0                                       </td> <td>0                </td> <td>243582                                 </td>\n",
       "        </tr>\n",
       "        <tr>\n",
       "            <td>Board Of Supervisors   </td> <td>0               </td> <td>0                   </td> <td>293773                          </td> <td>0                                       </td> <td>0                </td> <td>0                                      </td>\n",
       "        </tr>\n",
       "        <tr>\n",
       "            <td>Building Inspection    </td> <td>0               </td> <td>0                   </td> <td>0                               </td> <td>0                                       </td> <td>0                </td> <td>340852                                 </td>\n",
       "        </tr>\n",
       "    </tbody>\n",
       "</table>\n",
       "<p>... (41 rows omitted)</p>"
      ]
     },
     "execution_count": 24,
     "metadata": {},
     "output_type": "execute_result"
    }
   ],
   "execution_count": 24
  },
  {
   "cell_type": "code",
   "metadata": {
    "deletable": false,
    "editable": false,
    "ExecuteTime": {
     "end_time": "2025-05-19T03:53:53.966479Z",
     "start_time": "2025-05-19T03:53:53.962261Z"
    }
   },
   "source": [
    "grader.check(\"q2_3\")"
   ],
   "id": "9b60ce5cc5511b9",
   "outputs": [
    {
     "data": {
      "text/plain": [
       "q2_3 results: All test cases passed!"
      ],
      "text/html": [
       "<p><strong><pre style='display: inline;'>q2_3</pre></strong> passed! 🌟</p>"
      ]
     },
     "execution_count": 25,
     "metadata": {},
     "output_type": "execute_result"
    }
   ],
   "execution_count": 25
  },
  {
   "cell_type": "markdown",
   "metadata": {},
   "source": [
    "<!-- BEGIN QUESTION -->\n",
    "\n",
    "--- \n",
    "\n",
    "**Question 4.** Why might some of the row values be `0` in the `department_ranges` table from the previous question. **(8 Points)**\n"
   ],
   "id": "f73f94c9c15230a8"
  },
  {
   "cell_type": "markdown",
   "metadata": {},
   "source": "the number reason can be that their compensation is equal",
   "id": "a0ec6622bc0d24"
  },
  {
   "cell_type": "markdown",
   "metadata": {},
   "source": [
    "<!-- END QUESTION -->\n",
    "\n",
    "---\n",
    "\n",
    "**Question 5.** Find the number of departments appearing in the `sf` table that have an average total compensation of greater than 125,000 dollars; assign this value to the variable `num_over_125k`. **(9 Points)**\n",
    "\n",
    "*Note:* The variable names provided are meant to help guide the intermediate steps and general thought process. Feel free to delete them if you'd prefer to start from scratch, but make sure your final answer is assigned to `num_over_125k`!\n"
   ],
   "id": "881ef154564850bd"
  },
  {
   "cell_type": "code",
   "metadata": {
    "tags": [],
    "ExecuteTime": {
     "end_time": "2025-05-19T03:55:05.401831Z",
     "start_time": "2025-05-19T03:55:05.210755Z"
    }
   },
   "source": [
    "depts_and_comp = sf.select(\"Department\", \"Total Compensation\")\n",
    "department_avg = depts_and_comp.group(\"Department\", np.average)\n",
    "num_over_125k = department_avg.where(\"Total Compensation average\", are.above(125000)).num_rows\n",
    "num_over_125k"
   ],
   "id": "8058f093e0ed625c",
   "outputs": [
    {
     "data": {
      "text/plain": [
       "23"
      ]
     },
     "execution_count": 29,
     "metadata": {},
     "output_type": "execute_result"
    }
   ],
   "execution_count": 29
  },
  {
   "cell_type": "code",
   "metadata": {
    "deletable": false,
    "editable": false,
    "ExecuteTime": {
     "end_time": "2025-05-19T03:55:06.680767Z",
     "start_time": "2025-05-19T03:55:06.671962Z"
    }
   },
   "source": [
    "grader.check(\"q2_5\")"
   ],
   "id": "b3c5e6a9210e498f",
   "outputs": [
    {
     "data": {
      "text/plain": [
       "q2_5 results: All test cases passed!"
      ],
      "text/html": [
       "<p><strong><pre style='display: inline;'>q2_5</pre></strong> passed! 🚀</p>"
      ]
     },
     "execution_count": 30,
     "metadata": {},
     "output_type": "execute_result"
    }
   ],
   "execution_count": 30
  },
  {
   "attachments": {},
   "cell_type": "markdown",
   "metadata": {},
   "source": [
    "You're done with Homework 4!  \n",
    "\n",
    "**Important submission steps:** \n",
    "1. Run the tests and verify that they all pass.\n",
    "2. Choose **Save Notebook** from the **File** menu, then **run the final cell**. \n",
    "3. Click the link to download the zip file.\n",
    "4. Go to [Gradescope](https://www.gradescope.com) and submit the zip file to the corresponding assignment. The name of this assignment is \"Homework 4 Autograder\". \n",
    "\n",
    "**It is your responsibility to make sure your work is saved before running the last cell.**"
   ],
   "id": "91fce8a99c45287f"
  },
  {
   "attachments": {},
   "cell_type": "markdown",
   "metadata": {},
   "source": [
    "## Pets of Data 8\n",
    "**Mavis** says congrats on finishing HW 04!\n",
    "\n",
    "<img src=\"./mavis.png\" width=\"40%\" alt=\"Mavis the black cat laying on a floral blanket\"/>"
   ],
   "id": "3a0d7125eba3e6bd"
  },
  {
   "cell_type": "markdown",
   "metadata": {},
   "source": [
    "## Submission\n",
    "\n",
    "Below, you will see two cells. Running the first cell will automatically generate a PDF of all questions that need to be manually graded, and running the second cell will automatically generate a zip with your autograded answers. You are responsible for submitting both the coding portion (the zip) and the written portion (the PDF) to their respective Gradescope portals. **Please save before exporting!**\n",
    "\n",
    "> **Important: You must correctly assign the pages of your PDF after you submit to the correct gradescope assignment. If your pages are not correctly assigned and/or not in the correct PDF format by the deadline, we reserve the right to award no points for your written work.**\n",
    "\n",
    "If there are issues with automatically generating the PDF in the first cell, you can try downloading the notebook as a PDF by colicking on `File -> Save and Export Notebook As... -> PDF`. If that doesn't work either, you can manually take screenshots of your answers to the manually graded questions and submit those. Either way, **you are responsible for ensuring your submision follows our requirements, we will NOT be granting regrade requests for submissions that don't follow instructions.**\n",
    "\n",
    "**You must submit the PDF generated via one of these methods, we will not accept screenshots or Word documents.**"
   ],
   "id": "abe7af57c3ef1a3"
  },
  {
   "cell_type": "code",
   "metadata": {
    "ExecuteTime": {
     "end_time": "2025-05-19T03:55:25.763891Z",
     "start_time": "2025-05-19T03:55:25.544365Z"
    }
   },
   "source": [
    "from otter.export import export_notebook\n",
    "from os import path\n",
    "from IPython.display import display, HTML\n",
    "name = 'hw04'\n",
    "export_notebook(f\"{name}.ipynb\", filtering=True, pagebreaks=True)\n",
    "if(path.exists(f'{name}.pdf')):\n",
    "    display(HTML(f\"Download your PDF <a href='{name}.pdf' download>here</a>.\"))\n",
    "else:\n",
    "    print(\"\\n Pdf generation failed, please try the other methods described above\")"
   ],
   "id": "48dcf99e7154ddae",
   "outputs": [
    {
     "ename": "PandocMissing",
     "evalue": "Pandoc wasn't found.\nPlease check that pandoc is installed:\nhttps://pandoc.org/installing.html",
     "output_type": "error",
     "traceback": [
      "\u001B[0;31m---------------------------------------------------------------------------\u001B[0m",
      "\u001B[0;31mPandocMissing\u001B[0m                             Traceback (most recent call last)",
      "Cell \u001B[0;32mIn[31], line 5\u001B[0m\n\u001B[1;32m      3\u001B[0m \u001B[38;5;28;01mfrom\u001B[39;00m\u001B[38;5;250m \u001B[39m\u001B[38;5;21;01mIPython\u001B[39;00m\u001B[38;5;21;01m.\u001B[39;00m\u001B[38;5;21;01mdisplay\u001B[39;00m\u001B[38;5;250m \u001B[39m\u001B[38;5;28;01mimport\u001B[39;00m display, HTML\n\u001B[1;32m      4\u001B[0m name \u001B[38;5;241m=\u001B[39m \u001B[38;5;124m'\u001B[39m\u001B[38;5;124mhw04\u001B[39m\u001B[38;5;124m'\u001B[39m\n\u001B[0;32m----> 5\u001B[0m \u001B[43mexport_notebook\u001B[49m\u001B[43m(\u001B[49m\u001B[38;5;124;43mf\u001B[39;49m\u001B[38;5;124;43m\"\u001B[39;49m\u001B[38;5;132;43;01m{\u001B[39;49;00m\u001B[43mname\u001B[49m\u001B[38;5;132;43;01m}\u001B[39;49;00m\u001B[38;5;124;43m.ipynb\u001B[39;49m\u001B[38;5;124;43m\"\u001B[39;49m\u001B[43m,\u001B[49m\u001B[43m \u001B[49m\u001B[43mfiltering\u001B[49m\u001B[38;5;241;43m=\u001B[39;49m\u001B[38;5;28;43;01mTrue\u001B[39;49;00m\u001B[43m,\u001B[49m\u001B[43m \u001B[49m\u001B[43mpagebreaks\u001B[49m\u001B[38;5;241;43m=\u001B[39;49m\u001B[38;5;28;43;01mTrue\u001B[39;49;00m\u001B[43m)\u001B[49m\n\u001B[1;32m      6\u001B[0m \u001B[38;5;28;01mif\u001B[39;00m(path\u001B[38;5;241m.\u001B[39mexists(\u001B[38;5;124mf\u001B[39m\u001B[38;5;124m'\u001B[39m\u001B[38;5;132;01m{\u001B[39;00mname\u001B[38;5;132;01m}\u001B[39;00m\u001B[38;5;124m.pdf\u001B[39m\u001B[38;5;124m'\u001B[39m)):\n\u001B[1;32m      7\u001B[0m     display(HTML(\u001B[38;5;124mf\u001B[39m\u001B[38;5;124m\"\u001B[39m\u001B[38;5;124mDownload your PDF <a href=\u001B[39m\u001B[38;5;124m'\u001B[39m\u001B[38;5;132;01m{\u001B[39;00mname\u001B[38;5;132;01m}\u001B[39;00m\u001B[38;5;124m.pdf\u001B[39m\u001B[38;5;124m'\u001B[39m\u001B[38;5;124m download>here</a>.\u001B[39m\u001B[38;5;124m\"\u001B[39m))\n",
      "File \u001B[0;32m~/something beautiful/uni_datascience/.venv/lib/python3.9/site-packages/otter/export/__init__.py:43\u001B[0m, in \u001B[0;36mexport_notebook\u001B[0;34m(nb_path, dest, exporter_type, **kwargs)\u001B[0m\n\u001B[1;32m     40\u001B[0m     pdf_name \u001B[38;5;241m=\u001B[39m os\u001B[38;5;241m.\u001B[39mpath\u001B[38;5;241m.\u001B[39msplitext(nb_path)[\u001B[38;5;241m0\u001B[39m] \u001B[38;5;241m+\u001B[39m \u001B[38;5;124m\"\u001B[39m\u001B[38;5;124m.pdf\u001B[39m\u001B[38;5;124m\"\u001B[39m\n\u001B[1;32m     42\u001B[0m Exporter \u001B[38;5;241m=\u001B[39m get_exporter(exporter_type\u001B[38;5;241m=\u001B[39mexporter_type)\n\u001B[0;32m---> 43\u001B[0m \u001B[43mExporter\u001B[49m\u001B[38;5;241;43m.\u001B[39;49m\u001B[43mconvert_notebook\u001B[49m\u001B[43m(\u001B[49m\u001B[43mnb_path\u001B[49m\u001B[43m,\u001B[49m\u001B[43m \u001B[49m\u001B[43mpdf_name\u001B[49m\u001B[43m,\u001B[49m\u001B[43m \u001B[49m\u001B[38;5;241;43m*\u001B[39;49m\u001B[38;5;241;43m*\u001B[39;49m\u001B[43mkwargs\u001B[49m\u001B[43m)\u001B[49m\n\u001B[1;32m     45\u001B[0m \u001B[38;5;28;01mreturn\u001B[39;00m pdf_name\n",
      "File \u001B[0;32m~/something beautiful/uni_datascience/.venv/lib/python3.9/site-packages/otter/export/exporters/via_latex.py:71\u001B[0m, in \u001B[0;36mPDFViaLatexExporter.convert_notebook\u001B[0;34m(cls, nb_path, dest, xecjk, **kwargs)\u001B[0m\n\u001B[1;32m     68\u001B[0m     \u001B[38;5;28;01mwith\u001B[39;00m \u001B[38;5;28mopen\u001B[39m(os\u001B[38;5;241m.\u001B[39mpath\u001B[38;5;241m.\u001B[39msplitext(dest)[\u001B[38;5;241m0\u001B[39m] \u001B[38;5;241m+\u001B[39m \u001B[38;5;124m\"\u001B[39m\u001B[38;5;124m.tex\u001B[39m\u001B[38;5;124m\"\u001B[39m, \u001B[38;5;124m\"\u001B[39m\u001B[38;5;124mw+\u001B[39m\u001B[38;5;124m\"\u001B[39m) \u001B[38;5;28;01mas\u001B[39;00m output_file:\n\u001B[1;32m     69\u001B[0m         output_file\u001B[38;5;241m.\u001B[39mwrite(latex_output[\u001B[38;5;241m0\u001B[39m])\n\u001B[0;32m---> 71\u001B[0m pdf_output \u001B[38;5;241m=\u001B[39m \u001B[43mnbconvert\u001B[49m\u001B[38;5;241;43m.\u001B[39;49m\u001B[43mexport\u001B[49m\u001B[43m(\u001B[49m\u001B[43mpdf_exporter\u001B[49m\u001B[43m,\u001B[49m\u001B[43m \u001B[49m\u001B[43mnb\u001B[49m\u001B[43m)\u001B[49m\n\u001B[1;32m     72\u001B[0m \u001B[38;5;28;01mwith\u001B[39;00m \u001B[38;5;28mopen\u001B[39m(dest, \u001B[38;5;124m\"\u001B[39m\u001B[38;5;124mwb\u001B[39m\u001B[38;5;124m\"\u001B[39m) \u001B[38;5;28;01mas\u001B[39;00m output_file:\n\u001B[1;32m     73\u001B[0m     output_file\u001B[38;5;241m.\u001B[39mwrite(pdf_output[\u001B[38;5;241m0\u001B[39m])\n",
      "File \u001B[0;32m~/something beautiful/uni_datascience/.venv/lib/python3.9/site-packages/nbconvert/exporters/base.py:86\u001B[0m, in \u001B[0;36mexport\u001B[0;34m(exporter, nb, **kw)\u001B[0m\n\u001B[1;32m     84\u001B[0m \u001B[38;5;66;03m# Try to convert the notebook using the appropriate conversion function.\u001B[39;00m\n\u001B[1;32m     85\u001B[0m \u001B[38;5;28;01mif\u001B[39;00m \u001B[38;5;28misinstance\u001B[39m(nb, NotebookNode):\n\u001B[0;32m---> 86\u001B[0m     output, resources \u001B[38;5;241m=\u001B[39m \u001B[43mexporter_instance\u001B[49m\u001B[38;5;241;43m.\u001B[39;49m\u001B[43mfrom_notebook_node\u001B[49m\u001B[43m(\u001B[49m\u001B[43mnb\u001B[49m\u001B[43m,\u001B[49m\u001B[43m \u001B[49m\u001B[43mresources\u001B[49m\u001B[43m)\u001B[49m\n\u001B[1;32m     87\u001B[0m \u001B[38;5;28;01melif\u001B[39;00m \u001B[38;5;28misinstance\u001B[39m(nb, (\u001B[38;5;28mstr\u001B[39m,)):\n\u001B[1;32m     88\u001B[0m     output, resources \u001B[38;5;241m=\u001B[39m exporter_instance\u001B[38;5;241m.\u001B[39mfrom_filename(nb, resources)\n",
      "File \u001B[0;32m~/something beautiful/uni_datascience/.venv/lib/python3.9/site-packages/nbconvert/exporters/pdf.py:184\u001B[0m, in \u001B[0;36mPDFExporter.from_notebook_node\u001B[0;34m(self, nb, resources, **kw)\u001B[0m\n\u001B[1;32m    182\u001B[0m \u001B[38;5;28;01mdef\u001B[39;00m\u001B[38;5;250m \u001B[39m\u001B[38;5;21mfrom_notebook_node\u001B[39m(\u001B[38;5;28mself\u001B[39m, nb, resources\u001B[38;5;241m=\u001B[39m\u001B[38;5;28;01mNone\u001B[39;00m, \u001B[38;5;241m*\u001B[39m\u001B[38;5;241m*\u001B[39mkw):\n\u001B[1;32m    183\u001B[0m \u001B[38;5;250m    \u001B[39m\u001B[38;5;124;03m\"\"\"Convert from notebook node.\"\"\"\u001B[39;00m\n\u001B[0;32m--> 184\u001B[0m     latex, resources \u001B[38;5;241m=\u001B[39m \u001B[38;5;28;43msuper\u001B[39;49m\u001B[43m(\u001B[49m\u001B[43m)\u001B[49m\u001B[38;5;241;43m.\u001B[39;49m\u001B[43mfrom_notebook_node\u001B[49m\u001B[43m(\u001B[49m\u001B[43mnb\u001B[49m\u001B[43m,\u001B[49m\u001B[43m \u001B[49m\u001B[43mresources\u001B[49m\u001B[38;5;241;43m=\u001B[39;49m\u001B[43mresources\u001B[49m\u001B[43m,\u001B[49m\u001B[43m \u001B[49m\u001B[38;5;241;43m*\u001B[39;49m\u001B[38;5;241;43m*\u001B[39;49m\u001B[43mkw\u001B[49m\u001B[43m)\u001B[49m\n\u001B[1;32m    185\u001B[0m     \u001B[38;5;66;03m# set texinputs directory, so that local files will be found\u001B[39;00m\n\u001B[1;32m    186\u001B[0m     \u001B[38;5;28;01mif\u001B[39;00m resources \u001B[38;5;129;01mand\u001B[39;00m resources\u001B[38;5;241m.\u001B[39mget(\u001B[38;5;124m\"\u001B[39m\u001B[38;5;124mmetadata\u001B[39m\u001B[38;5;124m\"\u001B[39m, {})\u001B[38;5;241m.\u001B[39mget(\u001B[38;5;124m\"\u001B[39m\u001B[38;5;124mpath\u001B[39m\u001B[38;5;124m\"\u001B[39m):\n",
      "File \u001B[0;32m~/something beautiful/uni_datascience/.venv/lib/python3.9/site-packages/nbconvert/exporters/latex.py:92\u001B[0m, in \u001B[0;36mLatexExporter.from_notebook_node\u001B[0;34m(self, nb, resources, **kw)\u001B[0m\n\u001B[1;32m     86\u001B[0m convert_explicitly_relative_paths \u001B[38;5;241m=\u001B[39m \u001B[38;5;28mself\u001B[39m\u001B[38;5;241m.\u001B[39mfilters\u001B[38;5;241m.\u001B[39mget(\n\u001B[1;32m     87\u001B[0m     \u001B[38;5;124m\"\u001B[39m\u001B[38;5;124mconvert_explicitly_relative_paths\u001B[39m\u001B[38;5;124m\"\u001B[39m,\n\u001B[1;32m     88\u001B[0m     ConvertExplicitlyRelativePaths(texinputs\u001B[38;5;241m=\u001B[39mtexinputs, parent\u001B[38;5;241m=\u001B[39m\u001B[38;5;28mself\u001B[39m),\n\u001B[1;32m     89\u001B[0m )\n\u001B[1;32m     90\u001B[0m \u001B[38;5;28mself\u001B[39m\u001B[38;5;241m.\u001B[39mregister_filter(\u001B[38;5;124m\"\u001B[39m\u001B[38;5;124mconvert_explicitly_relative_paths\u001B[39m\u001B[38;5;124m\"\u001B[39m, convert_explicitly_relative_paths)\n\u001B[0;32m---> 92\u001B[0m \u001B[38;5;28;01mreturn\u001B[39;00m \u001B[38;5;28;43msuper\u001B[39;49m\u001B[43m(\u001B[49m\u001B[43m)\u001B[49m\u001B[38;5;241;43m.\u001B[39;49m\u001B[43mfrom_notebook_node\u001B[49m\u001B[43m(\u001B[49m\u001B[43mnb\u001B[49m\u001B[43m,\u001B[49m\u001B[43m \u001B[49m\u001B[43mresources\u001B[49m\u001B[43m,\u001B[49m\u001B[43m \u001B[49m\u001B[38;5;241;43m*\u001B[39;49m\u001B[38;5;241;43m*\u001B[39;49m\u001B[43mkw\u001B[49m\u001B[43m)\u001B[49m\n",
      "File \u001B[0;32m~/something beautiful/uni_datascience/.venv/lib/python3.9/site-packages/nbconvert/exporters/templateexporter.py:429\u001B[0m, in \u001B[0;36mTemplateExporter.from_notebook_node\u001B[0;34m(self, nb, resources, **kw)\u001B[0m\n\u001B[1;32m    415\u001B[0m resources[\u001B[38;5;124m\"\u001B[39m\u001B[38;5;124mglobal_content_filter\u001B[39m\u001B[38;5;124m\"\u001B[39m] \u001B[38;5;241m=\u001B[39m {\n\u001B[1;32m    416\u001B[0m     \u001B[38;5;124m\"\u001B[39m\u001B[38;5;124minclude_code\u001B[39m\u001B[38;5;124m\"\u001B[39m: \u001B[38;5;129;01mnot\u001B[39;00m \u001B[38;5;28mself\u001B[39m\u001B[38;5;241m.\u001B[39mexclude_code_cell,\n\u001B[1;32m    417\u001B[0m     \u001B[38;5;124m\"\u001B[39m\u001B[38;5;124minclude_markdown\u001B[39m\u001B[38;5;124m\"\u001B[39m: \u001B[38;5;129;01mnot\u001B[39;00m \u001B[38;5;28mself\u001B[39m\u001B[38;5;241m.\u001B[39mexclude_markdown,\n\u001B[0;32m   (...)\u001B[0m\n\u001B[1;32m    425\u001B[0m     \u001B[38;5;124m\"\u001B[39m\u001B[38;5;124mno_prompt\u001B[39m\u001B[38;5;124m\"\u001B[39m: \u001B[38;5;28mself\u001B[39m\u001B[38;5;241m.\u001B[39mexclude_input_prompt \u001B[38;5;129;01mand\u001B[39;00m \u001B[38;5;28mself\u001B[39m\u001B[38;5;241m.\u001B[39mexclude_output_prompt,\n\u001B[1;32m    426\u001B[0m }\n\u001B[1;32m    428\u001B[0m \u001B[38;5;66;03m# Top level variables are passed to the template_exporter here.\u001B[39;00m\n\u001B[0;32m--> 429\u001B[0m output \u001B[38;5;241m=\u001B[39m \u001B[38;5;28;43mself\u001B[39;49m\u001B[38;5;241;43m.\u001B[39;49m\u001B[43mtemplate\u001B[49m\u001B[38;5;241;43m.\u001B[39;49m\u001B[43mrender\u001B[49m\u001B[43m(\u001B[49m\u001B[43mnb\u001B[49m\u001B[38;5;241;43m=\u001B[39;49m\u001B[43mnb_copy\u001B[49m\u001B[43m,\u001B[49m\u001B[43m \u001B[49m\u001B[43mresources\u001B[49m\u001B[38;5;241;43m=\u001B[39;49m\u001B[43mresources\u001B[49m\u001B[43m)\u001B[49m\n\u001B[1;32m    430\u001B[0m output \u001B[38;5;241m=\u001B[39m output\u001B[38;5;241m.\u001B[39mlstrip(\u001B[38;5;124m\"\u001B[39m\u001B[38;5;130;01m\\r\u001B[39;00m\u001B[38;5;130;01m\\n\u001B[39;00m\u001B[38;5;124m\"\u001B[39m)\n\u001B[1;32m    431\u001B[0m \u001B[38;5;28;01mreturn\u001B[39;00m output, resources\n",
      "File \u001B[0;32m~/something beautiful/uni_datascience/.venv/lib/python3.9/site-packages/jinja2/environment.py:1295\u001B[0m, in \u001B[0;36mTemplate.render\u001B[0;34m(self, *args, **kwargs)\u001B[0m\n\u001B[1;32m   1293\u001B[0m     \u001B[38;5;28;01mreturn\u001B[39;00m \u001B[38;5;28mself\u001B[39m\u001B[38;5;241m.\u001B[39menvironment\u001B[38;5;241m.\u001B[39mconcat(\u001B[38;5;28mself\u001B[39m\u001B[38;5;241m.\u001B[39mroot_render_func(ctx))  \u001B[38;5;66;03m# type: ignore\u001B[39;00m\n\u001B[1;32m   1294\u001B[0m \u001B[38;5;28;01mexcept\u001B[39;00m \u001B[38;5;167;01mException\u001B[39;00m:\n\u001B[0;32m-> 1295\u001B[0m     \u001B[38;5;28;43mself\u001B[39;49m\u001B[38;5;241;43m.\u001B[39;49m\u001B[43menvironment\u001B[49m\u001B[38;5;241;43m.\u001B[39;49m\u001B[43mhandle_exception\u001B[49m\u001B[43m(\u001B[49m\u001B[43m)\u001B[49m\n",
      "File \u001B[0;32m~/something beautiful/uni_datascience/.venv/lib/python3.9/site-packages/jinja2/environment.py:942\u001B[0m, in \u001B[0;36mEnvironment.handle_exception\u001B[0;34m(self, source)\u001B[0m\n\u001B[1;32m    937\u001B[0m \u001B[38;5;250m\u001B[39m\u001B[38;5;124;03m\"\"\"Exception handling helper.  This is used internally to either raise\u001B[39;00m\n\u001B[1;32m    938\u001B[0m \u001B[38;5;124;03mrewritten exceptions or return a rendered traceback for the template.\u001B[39;00m\n\u001B[1;32m    939\u001B[0m \u001B[38;5;124;03m\"\"\"\u001B[39;00m\n\u001B[1;32m    940\u001B[0m \u001B[38;5;28;01mfrom\u001B[39;00m\u001B[38;5;250m \u001B[39m\u001B[38;5;21;01m.\u001B[39;00m\u001B[38;5;21;01mdebug\u001B[39;00m\u001B[38;5;250m \u001B[39m\u001B[38;5;28;01mimport\u001B[39;00m rewrite_traceback_stack\n\u001B[0;32m--> 942\u001B[0m \u001B[38;5;28;01mraise\u001B[39;00m rewrite_traceback_stack(source\u001B[38;5;241m=\u001B[39msource)\n",
      "File \u001B[0;32m~/something beautiful/uni_datascience/.venv/lib/python3.9/site-packages/otter/export/exporters/templates/via_latex/index.tex.j2:7\u001B[0m, in \u001B[0;36mtop-level template code\u001B[0;34m()\u001B[0m\n\u001B[1;32m      5\u001B[0m \n\u001B[1;32m      6\u001B[0m % Inherit from the specified cell style.\n\u001B[0;32m----> 7\u001B[0m ((* extends cell_style *))\n\u001B[1;32m      8\u001B[0m \n\u001B[1;32m      9\u001B[0m \n",
      "File \u001B[0;32m~/something beautiful/uni_datascience/.venv/share/jupyter/nbconvert/templates/latex/style_ipython.tex.j2:68\u001B[0m, in \u001B[0;36mtop-level template code\u001B[0;34m()\u001B[0m\n\u001B[1;32m     66\u001B[0m     ((*- set indention =  \" \" * (execution_count | length + 7) -*))\n\u001B[1;32m     67\u001B[0m \\begin{Verbatim}[commandchars=\\\\\\{\\}]\n\u001B[0;32m---> 68\u001B[0m ((( text | add_prompts(first='{\\\\color{' ~ prompt_color ~ '}' ~ prompt ~ '[{\\\\color{' ~ prompt_color ~ '}' ~ execution_count ~ '}]:} ', cont=indention) )))\n\u001B[1;32m     69\u001B[0m \\end{Verbatim}\n\u001B[1;32m     70\u001B[0m ((*- endmacro *))\n",
      "File \u001B[0;32m~/something beautiful/uni_datascience/.venv/share/jupyter/nbconvert/templates/latex/base.tex.j2:7\u001B[0m, in \u001B[0;36mtop-level template code\u001B[0;34m()\u001B[0m\n\u001B[1;32m      5\u001B[0m override this.-=))\n\u001B[1;32m      6\u001B[0m \n\u001B[0;32m----> 7\u001B[0m ((*- extends 'document_contents.tex.j2' -*))\n\u001B[1;32m      8\u001B[0m \n\u001B[1;32m      9\u001B[0m %===============================================================================\n",
      "File \u001B[0;32m~/something beautiful/uni_datascience/.venv/share/jupyter/nbconvert/templates/latex/document_contents.tex.j2:51\u001B[0m, in \u001B[0;36mtop-level template code\u001B[0;34m()\u001B[0m\n\u001B[1;32m     49\u001B[0m ((* macro draw_figure(filename) -*))\n\u001B[1;32m     50\u001B[0m ((* set filename = filename | posix_path *))\n\u001B[0;32m---> 51\u001B[0m ((*- block figure scoped -*))\n\u001B[1;32m     52\u001B[0m     \\begin{center}\n\u001B[1;32m     53\u001B[0m     \\adjustimage{max size={0.9\\linewidth}{0.9\\paperheight}}{((( filename )))}\n",
      "File \u001B[0;32m~/something beautiful/uni_datascience/.venv/share/jupyter/nbconvert/templates/latex/display_priority.j2:5\u001B[0m, in \u001B[0;36mtop-level template code\u001B[0;34m()\u001B[0m\n\u001B[1;32m      3\u001B[0m \n\u001B[1;32m      4\u001B[0m \n\u001B[0;32m----> 5\u001B[0m ((*- extends 'null.j2' -*))\n\u001B[1;32m      6\u001B[0m \n\u001B[1;32m      7\u001B[0m ((=display data priority=))\n",
      "File \u001B[0;32m~/something beautiful/uni_datascience/.venv/share/jupyter/nbconvert/templates/latex/null.j2:30\u001B[0m, in \u001B[0;36mtop-level template code\u001B[0;34m()\u001B[0m\n\u001B[1;32m     28\u001B[0m ((*- block header -*))\n\u001B[1;32m     29\u001B[0m ((*- endblock header -*))\n\u001B[0;32m---> 30\u001B[0m ((*- block body -*))\n\u001B[1;32m     31\u001B[0m ((*- for cell in nb.cells -*))\n\u001B[1;32m     32\u001B[0m     ((*- block any_cell scoped -*))\n",
      "File \u001B[0;32m~/something beautiful/uni_datascience/.venv/share/jupyter/nbconvert/templates/latex/base.tex.j2:241\u001B[0m, in \u001B[0;36mblock 'body'\u001B[0;34m()\u001B[0m\n\u001B[1;32m    239\u001B[0m ((* endblock predoc *))\n\u001B[1;32m    240\u001B[0m \n\u001B[0;32m--> 241\u001B[0m ((( super() )))\n\u001B[1;32m    242\u001B[0m \n\u001B[1;32m    243\u001B[0m % Add a bibliography block to the postdoc\n",
      "File \u001B[0;32m~/something beautiful/uni_datascience/.venv/share/jupyter/nbconvert/templates/latex/null.j2:32\u001B[0m, in \u001B[0;36mblock 'body'\u001B[0;34m()\u001B[0m\n\u001B[1;32m     30\u001B[0m ((*- block body -*))\n\u001B[1;32m     31\u001B[0m ((*- for cell in nb.cells -*))\n\u001B[0;32m---> 32\u001B[0m     ((*- block any_cell scoped -*))\n\u001B[1;32m     33\u001B[0m         ((*- if cell.cell_type == 'code'-*))\n\u001B[1;32m     34\u001B[0m             ((*- if resources.global_content_filter.include_code -*))\n",
      "File \u001B[0;32m~/something beautiful/uni_datascience/.venv/share/jupyter/nbconvert/templates/latex/null.j2:85\u001B[0m, in \u001B[0;36mblock 'any_cell'\u001B[0;34m()\u001B[0m\n\u001B[1;32m     83\u001B[0m ((*- elif cell.cell_type in ['markdown'] -*))\n\u001B[1;32m     84\u001B[0m     ((*- if resources.global_content_filter.include_markdown and not cell.metadata.get(\"transient\",{}).get(\"remove_source\", false) -*))\n\u001B[0;32m---> 85\u001B[0m         ((*- block markdowncell scoped-*)) ((*- endblock markdowncell -*))\n\u001B[1;32m     86\u001B[0m     ((*- endif -*))\n\u001B[1;32m     87\u001B[0m ((*- elif cell.cell_type in ['raw'] -*))\n",
      "File \u001B[0;32m~/something beautiful/uni_datascience/.venv/lib/python3.9/site-packages/otter/export/exporters/templates/via_latex/index.tex.j2:32\u001B[0m, in \u001B[0;36mblock 'markdowncell'\u001B[0;34m()\u001B[0m\n\u001B[1;32m     30\u001B[0m \t\t\\cleartooddpage\n\u001B[1;32m     31\u001B[0m         ((*- endif -*))\n\u001B[0;32m---> 32\u001B[0m ((( super() )))\n\u001B[1;32m     33\u001B[0m ((* endblock markdowncell *))\n\u001B[1;32m     34\u001B[0m \n",
      "File \u001B[0;32m~/something beautiful/uni_datascience/.venv/share/jupyter/nbconvert/templates/latex/document_contents.tex.j2:68\u001B[0m, in \u001B[0;36mblock 'markdowncell'\u001B[0;34m()\u001B[0m\n\u001B[1;32m     66\u001B[0m % Render markdown\n\u001B[1;32m     67\u001B[0m ((* block markdowncell scoped *))\n\u001B[0;32m---> 68\u001B[0m     ((( cell.source | citation2latex | strip_files_prefix | convert_pandoc('markdown+tex_math_double_backslash', 'json',extra_args=[]) | resolve_references | convert_explicitly_relative_paths | convert_pandoc('json','latex'))))\n\u001B[1;32m     69\u001B[0m ((* endblock markdowncell *))\n\u001B[1;32m     70\u001B[0m \n",
      "File \u001B[0;32m~/something beautiful/uni_datascience/.venv/lib/python3.9/site-packages/nbconvert/filters/pandoc.py:36\u001B[0m, in \u001B[0;36mconvert_pandoc\u001B[0;34m(source, from_format, to_format, extra_args)\u001B[0m\n\u001B[1;32m     16\u001B[0m \u001B[38;5;28;01mdef\u001B[39;00m\u001B[38;5;250m \u001B[39m\u001B[38;5;21mconvert_pandoc\u001B[39m(source, from_format, to_format, extra_args\u001B[38;5;241m=\u001B[39m\u001B[38;5;28;01mNone\u001B[39;00m):\n\u001B[1;32m     17\u001B[0m \u001B[38;5;250m    \u001B[39m\u001B[38;5;124;03m\"\"\"Convert between any two formats using pandoc.\u001B[39;00m\n\u001B[1;32m     18\u001B[0m \n\u001B[1;32m     19\u001B[0m \u001B[38;5;124;03m    This function will raise an error if pandoc is not installed.\u001B[39;00m\n\u001B[0;32m   (...)\u001B[0m\n\u001B[1;32m     34\u001B[0m \u001B[38;5;124;03m        Output as returned by pandoc.\u001B[39;00m\n\u001B[1;32m     35\u001B[0m \u001B[38;5;124;03m    \"\"\"\u001B[39;00m\n\u001B[0;32m---> 36\u001B[0m     \u001B[38;5;28;01mreturn\u001B[39;00m \u001B[43mpandoc\u001B[49m\u001B[43m(\u001B[49m\u001B[43msource\u001B[49m\u001B[43m,\u001B[49m\u001B[43m \u001B[49m\u001B[43mfrom_format\u001B[49m\u001B[43m,\u001B[49m\u001B[43m \u001B[49m\u001B[43mto_format\u001B[49m\u001B[43m,\u001B[49m\u001B[43m \u001B[49m\u001B[43mextra_args\u001B[49m\u001B[38;5;241;43m=\u001B[39;49m\u001B[43mextra_args\u001B[49m\u001B[43m)\u001B[49m\n",
      "File \u001B[0;32m~/something beautiful/uni_datascience/.venv/lib/python3.9/site-packages/nbconvert/utils/pandoc.py:50\u001B[0m, in \u001B[0;36mpandoc\u001B[0;34m(source, fmt, to, extra_args, encoding)\u001B[0m\n\u001B[1;32m     47\u001B[0m     cmd\u001B[38;5;241m.\u001B[39mextend(extra_args)\n\u001B[1;32m     49\u001B[0m \u001B[38;5;66;03m# this will raise an exception that will pop us out of here\u001B[39;00m\n\u001B[0;32m---> 50\u001B[0m \u001B[43mcheck_pandoc_version\u001B[49m\u001B[43m(\u001B[49m\u001B[43m)\u001B[49m\n\u001B[1;32m     52\u001B[0m \u001B[38;5;66;03m# we can safely continue\u001B[39;00m\n\u001B[1;32m     53\u001B[0m p \u001B[38;5;241m=\u001B[39m subprocess\u001B[38;5;241m.\u001B[39mPopen(cmd, stdin\u001B[38;5;241m=\u001B[39msubprocess\u001B[38;5;241m.\u001B[39mPIPE, stdout\u001B[38;5;241m=\u001B[39msubprocess\u001B[38;5;241m.\u001B[39mPIPE)  \u001B[38;5;66;03m# noqa: S603\u001B[39;00m\n",
      "File \u001B[0;32m~/something beautiful/uni_datascience/.venv/lib/python3.9/site-packages/nbconvert/utils/pandoc.py:98\u001B[0m, in \u001B[0;36mcheck_pandoc_version\u001B[0;34m()\u001B[0m\n\u001B[1;32m     95\u001B[0m \u001B[38;5;28;01mif\u001B[39;00m check_pandoc_version\u001B[38;5;241m.\u001B[39m_cached \u001B[38;5;129;01mis\u001B[39;00m \u001B[38;5;129;01mnot\u001B[39;00m \u001B[38;5;28;01mNone\u001B[39;00m:  \u001B[38;5;66;03m# type:ignore[attr-defined]\u001B[39;00m\n\u001B[1;32m     96\u001B[0m     \u001B[38;5;28;01mreturn\u001B[39;00m check_pandoc_version\u001B[38;5;241m.\u001B[39m_cached  \u001B[38;5;66;03m# type:ignore[attr-defined]\u001B[39;00m\n\u001B[0;32m---> 98\u001B[0m v \u001B[38;5;241m=\u001B[39m \u001B[43mget_pandoc_version\u001B[49m\u001B[43m(\u001B[49m\u001B[43m)\u001B[49m\n\u001B[1;32m     99\u001B[0m \u001B[38;5;28;01mif\u001B[39;00m v \u001B[38;5;129;01mis\u001B[39;00m \u001B[38;5;28;01mNone\u001B[39;00m:\n\u001B[1;32m    100\u001B[0m     warnings\u001B[38;5;241m.\u001B[39mwarn(\n\u001B[1;32m    101\u001B[0m         \u001B[38;5;124m\"\u001B[39m\u001B[38;5;124mSorry, we cannot determine the version of pandoc.\u001B[39m\u001B[38;5;130;01m\\n\u001B[39;00m\u001B[38;5;124m\"\u001B[39m\n\u001B[1;32m    102\u001B[0m         \u001B[38;5;124m\"\u001B[39m\u001B[38;5;124mPlease consider reporting this issue and include the\u001B[39m\u001B[38;5;124m\"\u001B[39m\n\u001B[0;32m   (...)\u001B[0m\n\u001B[1;32m    105\u001B[0m         stacklevel\u001B[38;5;241m=\u001B[39m\u001B[38;5;241m2\u001B[39m,\n\u001B[1;32m    106\u001B[0m     )\n",
      "File \u001B[0;32m~/something beautiful/uni_datascience/.venv/lib/python3.9/site-packages/nbconvert/utils/pandoc.py:75\u001B[0m, in \u001B[0;36mget_pandoc_version\u001B[0;34m()\u001B[0m\n\u001B[1;32m     73\u001B[0m \u001B[38;5;28;01mif\u001B[39;00m __version \u001B[38;5;129;01mis\u001B[39;00m \u001B[38;5;28;01mNone\u001B[39;00m:\n\u001B[1;32m     74\u001B[0m     \u001B[38;5;28;01mif\u001B[39;00m \u001B[38;5;129;01mnot\u001B[39;00m shutil\u001B[38;5;241m.\u001B[39mwhich(\u001B[38;5;124m\"\u001B[39m\u001B[38;5;124mpandoc\u001B[39m\u001B[38;5;124m\"\u001B[39m):\n\u001B[0;32m---> 75\u001B[0m         \u001B[38;5;28;01mraise\u001B[39;00m PandocMissing()\n\u001B[1;32m     77\u001B[0m     out \u001B[38;5;241m=\u001B[39m subprocess\u001B[38;5;241m.\u001B[39mcheck_output([\u001B[38;5;124m\"\u001B[39m\u001B[38;5;124mpandoc\u001B[39m\u001B[38;5;124m\"\u001B[39m, \u001B[38;5;124m\"\u001B[39m\u001B[38;5;124m-v\u001B[39m\u001B[38;5;124m\"\u001B[39m])  \u001B[38;5;66;03m# noqa: S607, S603\u001B[39;00m\n\u001B[1;32m     78\u001B[0m     out_lines \u001B[38;5;241m=\u001B[39m out\u001B[38;5;241m.\u001B[39msplitlines()\n",
      "\u001B[0;31mPandocMissing\u001B[0m: Pandoc wasn't found.\nPlease check that pandoc is installed:\nhttps://pandoc.org/installing.html"
     ]
    }
   ],
   "execution_count": 31
  },
  {
   "cell_type": "markdown",
   "metadata": {
    "deletable": false,
    "editable": false
   },
   "source": [
    "## Submission\n",
    "\n",
    "Make sure you have run all cells in your notebook in order before running the cell below, so that all images/graphs appear in the output. The cell below will generate a zip file for you to submit. **Please save before exporting!**"
   ],
   "id": "6e366e6265d0196b"
  },
  {
   "cell_type": "code",
   "metadata": {
    "deletable": false,
    "editable": false,
    "ExecuteTime": {
     "end_time": "2025-05-19T03:57:58.522852Z",
     "start_time": "2025-05-19T03:57:53.182802Z"
    }
   },
   "source": [
    "# Save your notebook first, then run this cell to export your submission.\n",
    "grader.export(pdf=False, run_tests=True)"
   ],
   "id": "e4ff88c1684d7f0b",
   "outputs": [
    {
     "name": "stdout",
     "output_type": "stream",
     "text": [
      "Running your submission against local test cases...\n",
      "\n",
      "\n",
      "Your submission received the following results when run against available test cases:\n",
      "\n",
      "    q1_1 results: All test cases passed!\n",
      "\n",
      "    q1_4 results: All test cases passed!\n",
      "\n",
      "    q1_5 results: All test cases passed!\n",
      "\n",
      "    q1_7 results:\n",
      "        q1_7 - 1 result:\n",
      "            ❌ Test case failed\n",
      "            Trying:\n",
      "                0 <= burritos_less_than_six <= 100\n",
      "            Expecting:\n",
      "                True\n",
      "            **********************************************************************\n",
      "            Line 2, in q1_7 0\n",
      "            Failed example:\n",
      "                0 <= burritos_less_than_six <= 100\n",
      "            Exception raised:\n",
      "                Traceback (most recent call last):\n",
      "                  File \"/Applications/Xcode.app/Contents/Developer/Library/Frameworks/Python3.framework/Versions/3.9/lib/python3.9/doctest.py\", line 1336, in __run\n",
      "                    exec(compile(example.source, filename, \"single\",\n",
      "                  File \"<doctest q1_7 0[0]>\", line 1, in <module>\n",
      "                    0 <= burritos_less_than_six <= 100\n",
      "                TypeError: '<=' not supported between instances of 'int' and 'ellipsis'\n",
      "\n",
      "    q2_1 results: All test cases passed!\n",
      "\n",
      "    q2_3 results: All test cases passed!\n",
      "\n",
      "    q2_5 results: All test cases passed!\n"
     ]
    },
    {
     "data": {
      "text/plain": [
       "<IPython.core.display.HTML object>"
      ],
      "text/html": [
       "\n",
       "                    <p>\n",
       "                        Your submission has been exported. Click\n",
       "                        <a href=\"hw04_2025_05_19T10_57_53_186149.zip\" download=\"hw04_2025_05_19T10_57_53_186149.zip\" target=\"_blank\">here</a> to download\n",
       "                        the zip file.\n",
       "                    </p>\n",
       "                "
      ]
     },
     "metadata": {},
     "output_type": "display_data"
    }
   ],
   "execution_count": 32
  },
  {
   "cell_type": "markdown",
   "metadata": {},
   "source": [
    " "
   ],
   "id": "be41fef52c8f270"
  }
 ],
 "metadata": {
  "kernelspec": {
   "display_name": "Python 3",
   "language": "python",
   "name": "python3"
  },
  "language_info": {
   "codemirror_mode": {
    "name": "ipython",
    "version": 3
   },
   "file_extension": ".py",
   "mimetype": "text/x-python",
   "name": "python",
   "nbconvert_exporter": "python",
   "pygments_lexer": "ipython3",
   "version": "3.12.6"
  },
  "otter": {
   "OK_FORMAT": true,
   "tests": {
    "q1_1": {
     "name": "q1_1",
     "points": [
      0,
      0
     ],
     "suites": [
      {
       "cases": [
        {
         "code": ">>> # Make sure you have all the columns from both tables\n>>> set([\"Name\", \"Menu_Item\", \"Yelp\", \"Google\", \"Overall\", \"Cost\"]) == set(burritos.labels)\nTrue",
         "hidden": false,
         "locked": false
        },
        {
         "code": ">>> burritos.num_rows == 212\nTrue",
         "hidden": false,
         "locked": false
        }
       ],
       "scored": true,
       "setup": "",
       "teardown": "",
       "type": "doctest"
      }
     ]
    },
    "q1_4": {
     "name": "q1_4",
     "points": [
      1,
      1
     ],
     "suites": [
      {
       "cases": [
        {
         "code": ">>> # Number of columns should be 2\n>>> california_burritos.num_columns == 2\nTrue",
         "hidden": false,
         "locked": false
        },
        {
         "code": ">>> # Number of rows should be 19\n>>> california_burritos.num_rows == 19\nTrue",
         "hidden": false,
         "locked": false
        }
       ],
       "scored": true,
       "setup": "",
       "teardown": "",
       "type": "doctest"
      }
     ]
    },
    "q1_5": {
     "name": "q1_5",
     "points": [
      0
     ],
     "suites": [
      {
       "cases": [
        {
         "code": ">>> # Your answer should be a string\n>>> type(best_california_burrito) == str\nTrue",
         "hidden": false,
         "locked": false
        }
       ],
       "scored": true,
       "setup": "",
       "teardown": "",
       "type": "doctest"
      }
     ]
    },
    "q1_7": {
     "name": "q1_7",
     "points": [
      0
     ],
     "suites": [
      {
       "cases": [
        {
         "code": ">>> # Your answer should be between 0 and 100.\n>>> 0 <= burritos_less_than_six <= 100\nTrue",
         "hidden": false,
         "locked": false
        }
       ],
       "scored": true,
       "setup": "",
       "teardown": "",
       "type": "doctest"
      }
     ]
    },
    "q2_1": {
     "name": "q2_1",
     "points": [
      0,
      0,
      0,
      0
     ],
     "suites": [
      {
       "cases": [
        {
         "code": ">>> job_titles.num_columns\n2",
         "hidden": false,
         "locked": false
        },
        {
         "code": ">>> job_titles.num_rows\n6",
         "hidden": false,
         "locked": false
        },
        {
         "code": ">>> # Make sure that you have the correct column labels!\n>>> np.asarray(job_titles.labels).item(1) != \"Job full_array\"\nTrue",
         "hidden": false,
         "locked": false
        },
        {
         "code": ">>> # Make sure that you have the correct column labels!\n>>> np.asarray(job_titles.labels).item(1) == \"Jobs\"\nTrue",
         "hidden": false,
         "locked": false
        }
       ],
       "scored": true,
       "setup": "",
       "teardown": "",
       "type": "doctest"
      }
     ]
    },
    "q2_3": {
     "name": "q2_3",
     "points": [
      0,
      0,
      2
     ],
     "suites": [
      {
       "cases": [
        {
         "code": ">>> # Double check that your salary_range function is correct\n>>> compensation_range(make_array(5, 1, 20, 1000)) == 999\nTrue",
         "hidden": false,
         "locked": false
        },
        {
         "code": ">>> # Make sure that the table has departments as the rows and organization groups as the columns.\n>>> set([\"Department\", \"Community Health\", \"Culture & Recreation\", \"General Administration & Finance\", \"Human Welfare & Neighborhood Development\", \"Public Protection\", \"Public Works, Transportation & Commerce\"]) == set(department_ranges.labels)\nTrue",
         "hidden": false,
         "locked": false
        },
        {
         "code": ">>> sum(department_ranges.column(1))\n554179.0",
         "hidden": false,
         "locked": false
        }
       ],
       "scored": true,
       "setup": "",
       "teardown": "",
       "type": "doctest"
      }
     ]
    },
    "q2_5": {
     "name": "q2_5",
     "points": [
      2,
      2
     ],
     "suites": [
      {
       "cases": [
        {
         "code": ">>> # Make sure that your final answer is a number\n>>> isinstance(num_over_125k, int)\nTrue",
         "hidden": false,
         "locked": false
        },
        {
         "code": ">>> # Make sure that your answer makes sense given the sf table\n>>> 0 <= num_over_125k <= 51\nTrue",
         "hidden": false,
         "locked": false
        }
       ],
       "scored": true,
       "setup": "",
       "teardown": "",
       "type": "doctest"
      }
     ]
    }
   }
  }
 },
 "nbformat": 4,
 "nbformat_minor": 5
}
