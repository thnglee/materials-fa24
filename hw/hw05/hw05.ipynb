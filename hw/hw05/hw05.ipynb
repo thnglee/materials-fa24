{
 "cells": [
  {
   "cell_type": "code",
   "id": "85fb6e16",
   "metadata": {
    "deletable": false,
    "editable": false,
    "ExecuteTime": {
     "end_time": "2025-05-19T03:59:30.673332Z",
     "start_time": "2025-05-19T03:59:30.670147Z"
    }
   },
   "source": [
    "# Initialize Otter\n",
    "import otter\n",
    "grader = otter.Notebook(\"hw05.ipynb\")"
   ],
   "outputs": [],
   "execution_count": 2
  },
  {
   "cell_type": "markdown",
   "id": "b7338f3f",
   "metadata": {},
   "source": [
    "<img src=\"data8logo.png\" alt=\"Data 8 Logo\" style=\"width: 15%; float: right; padding: 1%; margin-right: 2%;\"/>\n",
    "\n",
    "# Homework 5: Applying Functions and Iteration\n",
    "\n",
    "Please complete this notebook by filling in the cells provided. Before you begin, execute the previous cell to load the provided tests.\n",
    "\n",
    "**Helpful Resource:**\n",
    "- [Python Reference](http://data8.org/fa24/reference/): Cheat sheet of helpful array & table methods used in Data 8!\n",
    "\n",
    "**Recommended Readings**: \n",
    "\n",
    "* [Tabular Thinking Guide](https://drive.google.com/file/d/1D9PXUgDLXjFBXZoyGVSKpzk0nKQziDTP/view?usp=sharing)\n",
    "* [Applying Functions](https://www.inferentialthinking.com/chapters/08/1/Applying_a_Function_to_a_Column.html)\n",
    "* [Conditionals](https://www.inferentialthinking.com/chapters/09/1/Conditional_Statements.html)\n",
    "* [Iteration](https://www.inferentialthinking.com/chapters/09/2/Iteration.html)\n",
    "\n",
    "Please complete this notebook by filling in the cells provided. **Before you begin, execute the cell below to setup the notebook by importing some helpful libraries.** Each time you start your server, you will need to execute this cell again.\n",
    "\n",
    "For all problems that you must write explanations and sentences for, you **must** provide your answer in the designated space. Moreover, throughout this homework and all future ones, **please be sure to not re-assign variables throughout the notebook!** For example, if you use `max_temperature` in your answer to one question, do not reassign it later on. Otherwise, you will fail tests that you thought you were passing previously!\n",
    "\n",
    "**Deadline:**\n",
    "\n",
    "This assignment is **due Wednesday, 10/2 at 5:00pm PT**. Submissions after this time will be accepted for 24 hours and will incur a 20% penalty. Any submissions later than this 24 hour period will not be accepted unless an extension has been granted as per the [policies](http://data8.org/fa24/policies/) page. Turn it in by Tuesday, 10/1 at 5:00pm PT for 5 extra credit points.\n",
    "\n",
    "<span style=\"color:red\">**Note: This homework has hidden tests on it. That means even though tests may say 100% passed, it doesn't mean your final grade will be 100%. We will be running more tests for correctness once everyone turns in the homework.**</span>\n",
    "\n",
    "Directly sharing answers is not okay, but discussing problems with the course staff or with other students is encouraged. Refer to the [policies](http://data8.org/fa24/policies/#learning-cooperatively) page to learn more about how to learn cooperatively.\n",
    "\n",
    "You should start early so that you have time to get help if you're stuck. Office hours are held Monday through Friday in [Warren Hall](https://www.berkeley.edu/map?warren) 101B. The office hours schedule appears [here](http://data8.org/fa24/schedule/)."
   ]
  },
  {
   "cell_type": "markdown",
   "id": "dfc37e3c",
   "metadata": {},
   "source": [
    "---\n",
    "\n",
    "The point breakdown for this assignment is given in the table below:\n",
    "| Category | Points |\n",
    "| --- | --- |\n",
    "| Autograder (Coding questions) | 100 |\n",
    "| Written | 0 |\n",
    "| **Total** | 100 |\n",
    "\n",
    "<span style=\"color:red\">**Note:**</span> Since there are no written/manual questions in this homework, there is no PDF to submit."
   ]
  },
  {
   "cell_type": "markdown",
   "id": "b50ea623",
   "metadata": {},
   "source": [
    "<hr style=\"border: 5px solid #003262;\" />\n",
    "<hr style=\"border: 1px solid #fdb515;\" />\n",
    "\n",
    "## 0. Midterm Accommodations Form"
   ]
  },
  {
   "attachments": {},
   "cell_type": "markdown",
   "id": "fa6f81ea",
   "metadata": {},
   "source": [
    "---\n",
    "\n",
    "**Question 1.** The DATA C8 Summer 2024 Midterm Exam will take place on **Friday, July 12th from 11AM - 1PM PT**. Please complete this form so that we can best accommodate you for the midterm.\n",
    "_**All students are required to fill out this form**_. The deadline to submit this form is **Monday, July 8th by 11:59PM.** The link can be found below. **(1 Point)**\n",
    "\n",
    "- [Fall 2024 Midterm Accommodations Survey](https://docs.google.com/forms/d/e/1FAIpQLSe-O5m6xPtjh-c4vwxoKwU0Ip8uzbM8oN4qPY2rz4HIwNhoaQ/viewform?usp=sf_link)"
   ]
  },
  {
   "cell_type": "markdown",
   "id": "8f32d7c7",
   "metadata": {},
   "source": [
    "Assign `secret_phrase` to the secret phrase given at the end of the accommodations survey. Make sure the phrase is in quotes (i.e. is a string)!\n"
   ]
  },
  {
   "cell_type": "code",
   "id": "adabfeb9",
   "metadata": {
    "tags": [],
    "ExecuteTime": {
     "end_time": "2025-05-19T04:00:28.481731Z",
     "start_time": "2025-05-19T04:00:28.478569Z"
    }
   },
   "source": "secret_phrase = \"Can you show me the exit sign\"",
   "outputs": [],
   "execution_count": 3
  },
  {
   "cell_type": "code",
   "id": "7335e2da",
   "metadata": {
    "deletable": false,
    "editable": false,
    "ExecuteTime": {
     "end_time": "2025-05-19T04:00:28.816207Z",
     "start_time": "2025-05-19T04:00:28.806946Z"
    }
   },
   "source": [
    "grader.check(\"q0_1\")"
   ],
   "outputs": [
    {
     "data": {
      "text/plain": [
       "q0_1 results: All test cases passed!"
      ],
      "text/html": [
       "<p><strong><pre style='display: inline;'>q0_1</pre></strong> passed! 💯</p>"
      ]
     },
     "execution_count": 4,
     "metadata": {},
     "output_type": "execute_result"
    }
   ],
   "execution_count": 4
  },
  {
   "cell_type": "markdown",
   "id": "d8cb4fa7",
   "metadata": {},
   "source": [
    "<hr style=\"border: 5px solid #003262;\" />\n",
    "<hr style=\"border: 1px solid #fdb515;\" />\n",
    "\n",
    "## 1. 2023 Cal Football Season"
   ]
  },
  {
   "cell_type": "code",
   "id": "67fbe73b",
   "metadata": {
    "ExecuteTime": {
     "end_time": "2025-05-19T04:03:35.068172Z",
     "start_time": "2025-05-19T04:03:34.377126Z"
    }
   },
   "source": [
    "# Run this cell to set up the notebook, but please don't change it.\n",
    "\n",
    "# These lines import the Numpy and Datascience modules.\n",
    "import numpy as np\n",
    "from datascience import *\n",
    "\n",
    "# These lines do some fancy plotting magic.\n",
    "import matplotlib\n",
    "%matplotlib inline\n",
    "import matplotlib.pyplot as plt\n",
    "plt.style.use('fivethirtyeight')\n",
    "import warnings\n",
    "warnings.simplefilter('ignore', FutureWarning)"
   ],
   "outputs": [
    {
     "name": "stderr",
     "output_type": "stream",
     "text": [
      "/Users/thanglee/something beautiful/uni_datascience/.venv/lib/python3.9/site-packages/urllib3/__init__.py:35: NotOpenSSLWarning: urllib3 v2 only supports OpenSSL 1.1.1+, currently the 'ssl' module is compiled with 'LibreSSL 2.8.3'. See: https://github.com/urllib3/urllib3/issues/3020\n",
      "  warnings.warn(\n"
     ]
    }
   ],
   "execution_count": 5
  },
  {
   "cell_type": "markdown",
   "id": "fdce8f35",
   "metadata": {},
   "source": [
    "Jonathan and Jadyn are trying to analyze how well the Cal football team performed in the 2023 season. A football game is divided into four periods, called quarters. The number of points Cal scored in each quarter and the number of points their opponent scored in each quarter are stored in a table called `cal_fb.csv`."
   ]
  },
  {
   "cell_type": "code",
   "id": "eb26bb17",
   "metadata": {
    "deletable": false,
    "editable": false,
    "ExecuteTime": {
     "end_time": "2025-05-19T04:03:55.033204Z",
     "start_time": "2025-05-19T04:03:55.025658Z"
    }
   },
   "source": [
    "# Just run this cell\n",
    "# Read in the cal_fb csv file\n",
    "games = Table().read_table(\"cal_fb.csv\")\n",
    "games.show()"
   ],
   "outputs": [
    {
     "data": {
      "text/plain": [
       "<IPython.core.display.HTML object>"
      ],
      "text/html": [
       "<table border=\"1\" class=\"dataframe\">\n",
       "    <thead>\n",
       "        <tr>\n",
       "            <th>Opponent</th> <th>Cal 1Q</th> <th>Cal 2Q</th> <th>Cal 3Q</th> <th>Cal 4Q</th> <th>Opp 1Q</th> <th>Opp 2Q</th> <th>Opp 3Q</th> <th>Opp 4Q</th>\n",
       "        </tr>\n",
       "    </thead>\n",
       "    <tbody>\n",
       "        <tr>\n",
       "            <td>North Texas     </td> <td>14    </td> <td>19    </td> <td>15    </td> <td>10    </td> <td>7     </td> <td>14    </td> <td>0     </td> <td>0     </td>\n",
       "        </tr>\n",
       "        <tr>\n",
       "            <td>Auburn          </td> <td>3     </td> <td>7     </td> <td>0     </td> <td>0     </td> <td>0     </td> <td>7     </td> <td>0     </td> <td>7     </td>\n",
       "        </tr>\n",
       "        <tr>\n",
       "            <td>Idaho           </td> <td>0     </td> <td>14    </td> <td>14    </td> <td>3     </td> <td>10    </td> <td>7     </td> <td>0     </td> <td>0     </td>\n",
       "        </tr>\n",
       "        <tr>\n",
       "            <td>Washington      </td> <td>6     </td> <td>6     </td> <td>7     </td> <td>13    </td> <td>24    </td> <td>21    </td> <td>7     </td> <td>7     </td>\n",
       "        </tr>\n",
       "        <tr>\n",
       "            <td>Arizona State   </td> <td>7     </td> <td>3     </td> <td>7     </td> <td>7     </td> <td>7     </td> <td>0     </td> <td>6     </td> <td>8     </td>\n",
       "        </tr>\n",
       "        <tr>\n",
       "            <td>Oregon State    </td> <td>0     </td> <td>17    </td> <td>15    </td> <td>8     </td> <td>7     </td> <td>14    </td> <td>14    </td> <td>17    </td>\n",
       "        </tr>\n",
       "        <tr>\n",
       "            <td>Utah            </td> <td>7     </td> <td>0     </td> <td>7     </td> <td>0     </td> <td>0     </td> <td>14    </td> <td>10    </td> <td>10    </td>\n",
       "        </tr>\n",
       "        <tr>\n",
       "            <td>USC             </td> <td>14    </td> <td>14    </td> <td>8     </td> <td>13    </td> <td>17    </td> <td>0     </td> <td>12    </td> <td>21    </td>\n",
       "        </tr>\n",
       "        <tr>\n",
       "            <td>Oregon          </td> <td>10    </td> <td>3     </td> <td>6     </td> <td>0     </td> <td>14    </td> <td>21    </td> <td>7     </td> <td>21    </td>\n",
       "        </tr>\n",
       "        <tr>\n",
       "            <td>Washington State</td> <td>14    </td> <td>14    </td> <td>0     </td> <td>14    </td> <td>7     </td> <td>14    </td> <td>3     </td> <td>15    </td>\n",
       "        </tr>\n",
       "        <tr>\n",
       "            <td>Stanford        </td> <td>7     </td> <td>7     </td> <td>7     </td> <td>6     </td> <td>3     </td> <td>3     </td> <td>9     </td> <td>0     </td>\n",
       "        </tr>\n",
       "        <tr>\n",
       "            <td>UCLA            </td> <td>6     </td> <td>14    </td> <td>0     </td> <td>13    </td> <td>0     </td> <td>7     </td> <td>0     </td> <td>0     </td>\n",
       "        </tr>\n",
       "        <tr>\n",
       "            <td>Texas Tech      </td> <td>14    </td> <td>0     </td> <td>0     </td> <td>0     </td> <td>7     </td> <td>17    </td> <td>7     </td> <td>3     </td>\n",
       "        </tr>\n",
       "    </tbody>\n",
       "</table>"
      ]
     },
     "metadata": {},
     "output_type": "display_data"
    }
   ],
   "execution_count": 6
  },
  {
   "cell_type": "markdown",
   "id": "ba0c38b9",
   "metadata": {},
   "source": [
    "Let's start by finding the total points each team scored in a game.\n",
    "\n",
    "---\n",
    "\n",
    "**Question 1.** Write a function called `sum_scores`.  It should take four arguments, where each argument represents integers corresponding to the team's score for each quarter. It should return the team's total score for that game as an integer. **(2 Points)**\n",
    "\n",
    "*Hint:* Don't overthink this question!\n",
    "\n"
   ]
  },
  {
   "cell_type": "code",
   "id": "1195ae0b",
   "metadata": {
    "tags": [],
    "ExecuteTime": {
     "end_time": "2025-05-19T04:04:34.933348Z",
     "start_time": "2025-05-19T04:04:34.929694Z"
    }
   },
   "source": [
    "def sum_scores(one, two, three, four):\n",
    "    return one + two + three + four\n",
    "\n",
    "sum_scores(14, 7, 3, 0) #DO NOT CHANGE THIS LINE"
   ],
   "outputs": [
    {
     "data": {
      "text/plain": [
       "24"
      ]
     },
     "execution_count": 7,
     "metadata": {},
     "output_type": "execute_result"
    }
   ],
   "execution_count": 7
  },
  {
   "cell_type": "code",
   "id": "16b6e278",
   "metadata": {
    "deletable": false,
    "editable": false,
    "ExecuteTime": {
     "end_time": "2025-05-19T04:04:36.640323Z",
     "start_time": "2025-05-19T04:04:36.634554Z"
    }
   },
   "source": [
    "grader.check(\"q1_1\")"
   ],
   "outputs": [
    {
     "data": {
      "text/plain": [
       "q1_1 results: All test cases passed!"
      ],
      "text/html": [
       "<p><strong><pre style='display: inline;'>q1_1</pre></strong> passed! 💯</p>"
      ]
     },
     "execution_count": 8,
     "metadata": {},
     "output_type": "execute_result"
    }
   ],
   "execution_count": 8
  },
  {
   "cell_type": "markdown",
   "id": "f80711e8",
   "metadata": {},
   "source": [
    "---\n",
    "\n",
    "**Question 2.** Create a new table `final_scores` with three columns in this *specific* order: `Opponent`, `Cal Score`, `Opponent Score`. You will have to create the `Cal Score` and `Opponent Score` columns. Use the function `sum_scores` you just defined in the previous question for this problem. **(5 Points)**\n",
    "\n",
    "*Hint:* If you want to apply a function that takes in multiple arguments, you can pass multiple column names as arguments in `tbl.apply()`. The column values will be passed into the corresponding arguments of the function. Take a look at the Python Reference Sheet and Lecture 13's demo for syntax.\n",
    "\n",
    "*Note:* If you’re running into issues creating `final_scores`, check that `cal_scores` and `opp_scores` output what you want. If you're encountering `TypeError`s, check the [Python Reference](https://www.data8.org/fa24/reference/) to see if the inputs/outputs of the function are what you expect.\n"
   ]
  },
  {
   "cell_type": "code",
   "id": "825fe709",
   "metadata": {
    "tags": [],
    "ExecuteTime": {
     "end_time": "2025-05-19T04:18:20.515245Z",
     "start_time": "2025-05-19T04:18:20.510459Z"
    }
   },
   "source": [
    "cal_scores = games.apply(sum_scores, \"Cal 1Q\", \"Cal 2Q\", \"Cal 3Q\", \"Cal 4Q\")\n",
    "\n",
    "opp_scores = games.apply(sum_scores, \"Opp 1Q\", \"Opp 2Q\", \"Opp 3Q\", \"Opp 4Q\")\n",
    "\n",
    "final_scores = Table().with_columns(\n",
    "    \"Opponent\", games.column(\"Opponent\"),\n",
    "    \"Cal Score\", cal_scores,\n",
    "    \"Opponent Score\", opp_scores\n",
    ")\n",
    "final_scores"
   ],
   "outputs": [
    {
     "data": {
      "text/plain": [
       "Opponent         | Cal Score | Opponent Score\n",
       "North Texas      | 58        | 21\n",
       "Auburn           | 10        | 14\n",
       "Idaho            | 31        | 17\n",
       "Washington       | 32        | 59\n",
       "Arizona State    | 24        | 21\n",
       "Oregon State     | 40        | 52\n",
       "Utah             | 14        | 34\n",
       "USC              | 49        | 50\n",
       "Oregon           | 19        | 63\n",
       "Washington State | 42        | 39\n",
       "... (3 rows omitted)"
      ],
      "text/html": [
       "<table border=\"1\" class=\"dataframe\">\n",
       "    <thead>\n",
       "        <tr>\n",
       "            <th>Opponent</th> <th>Cal Score</th> <th>Opponent Score</th>\n",
       "        </tr>\n",
       "    </thead>\n",
       "    <tbody>\n",
       "        <tr>\n",
       "            <td>North Texas     </td> <td>58       </td> <td>21            </td>\n",
       "        </tr>\n",
       "        <tr>\n",
       "            <td>Auburn          </td> <td>10       </td> <td>14            </td>\n",
       "        </tr>\n",
       "        <tr>\n",
       "            <td>Idaho           </td> <td>31       </td> <td>17            </td>\n",
       "        </tr>\n",
       "        <tr>\n",
       "            <td>Washington      </td> <td>32       </td> <td>59            </td>\n",
       "        </tr>\n",
       "        <tr>\n",
       "            <td>Arizona State   </td> <td>24       </td> <td>21            </td>\n",
       "        </tr>\n",
       "        <tr>\n",
       "            <td>Oregon State    </td> <td>40       </td> <td>52            </td>\n",
       "        </tr>\n",
       "        <tr>\n",
       "            <td>Utah            </td> <td>14       </td> <td>34            </td>\n",
       "        </tr>\n",
       "        <tr>\n",
       "            <td>USC             </td> <td>49       </td> <td>50            </td>\n",
       "        </tr>\n",
       "        <tr>\n",
       "            <td>Oregon          </td> <td>19       </td> <td>63            </td>\n",
       "        </tr>\n",
       "        <tr>\n",
       "            <td>Washington State</td> <td>42       </td> <td>39            </td>\n",
       "        </tr>\n",
       "    </tbody>\n",
       "</table>\n",
       "<p>... (3 rows omitted)</p>"
      ]
     },
     "execution_count": 17,
     "metadata": {},
     "output_type": "execute_result"
    }
   ],
   "execution_count": 17
  },
  {
   "cell_type": "code",
   "id": "3b461b03",
   "metadata": {
    "deletable": false,
    "editable": false,
    "ExecuteTime": {
     "end_time": "2025-05-19T04:11:48.691731Z",
     "start_time": "2025-05-19T04:11:48.684544Z"
    }
   },
   "source": [
    "grader.check(\"q1_2\")"
   ],
   "outputs": [
    {
     "data": {
      "text/plain": [
       "q1_2 results: All test cases passed!"
      ],
      "text/html": [
       "<p><strong><pre style='display: inline;'>q1_2</pre></strong> passed! 💯</p>"
      ]
     },
     "execution_count": 12,
     "metadata": {},
     "output_type": "execute_result"
    }
   ],
   "execution_count": 12
  },
  {
   "cell_type": "markdown",
   "id": "ada81802",
   "metadata": {},
   "source": [
    "We can get specific row objects from a table. You can use `tbl.row(n)` to get the `n`th row of a table. `row.item(\"column_name\")` will allow you to select the element that corresponds to `column_name` in a particular row. Here's an example:"
   ]
  },
  {
   "cell_type": "code",
   "execution_count": null,
   "id": "cbea0fee",
   "metadata": {
    "deletable": false,
    "editable": false
   },
   "outputs": [],
   "source": [
    "# Just run this cell\n",
    "# We got the Axe!\n",
    "games.row(10) # <-- this will return a row object"
   ]
  },
  {
   "cell_type": "code",
   "execution_count": null,
   "id": "de06fe33",
   "metadata": {
    "deletable": false,
    "editable": false
   },
   "outputs": [],
   "source": [
    "# Just run this cell\n",
    "games.row(10).item(\"Cal 4Q\") # <-- this will return a item (e.g. an int) from a row object"
   ]
  },
  {
   "cell_type": "markdown",
   "id": "c606ed59",
   "metadata": {},
   "source": [
    "---\n",
    "\n",
    "**Question 3.** We want to see for a particular game whether or not Cal lost. Write a function called `did_cal_lose`.  It should take one argument: a **row object** from the `final_scores` table. It should return either `True` if Cal's score was less than the Opponent's score, and `False` otherwise. **(5 Points)**\n",
    "\n",
    "*Note 1*: \"Row object\" means a row from the table extracted (behind the scenes) using `tbl.row(index)` that contains all the data for that specific row. It is **not** the index of a row. Do not try and call `final_scores.row(row)` inside of the function.\n",
    "\n",
    "*Note 2*: If you're still confused by row objects, try printing out `final_scores.row(1)` in a new cell to visually see what it looks like! This piece of code is pulling out the row object located at index 1 of the `final_scores` table and returning it. When you display it in a cell, you'll see that it is not located within a table, but is instead a standalone row object!\n",
    "\n",
    "Hint: You can use comparators like <, >, <=, >=, ==, and != to compare items from a row object\n"
   ]
  },
  {
   "cell_type": "code",
   "id": "77324787",
   "metadata": {
    "tags": [],
    "ExecuteTime": {
     "end_time": "2025-05-19T04:16:47.943100Z",
     "start_time": "2025-05-19T04:16:47.938853Z"
    }
   },
   "source": [
    "def did_cal_lose(row):\n",
    "    return row.item(\"Cal Score\") < row.item(\"Opponent Score\")\n",
    "\n",
    "did_cal_lose(final_scores.row(1)) #DO NOT CHANGE THIS LINE"
   ],
   "outputs": [
    {
     "data": {
      "text/plain": [
       "True"
      ]
     },
     "execution_count": 13,
     "metadata": {},
     "output_type": "execute_result"
    }
   ],
   "execution_count": 13
  },
  {
   "cell_type": "code",
   "id": "346e7e47",
   "metadata": {
    "deletable": false,
    "editable": false,
    "ExecuteTime": {
     "end_time": "2025-05-19T04:16:49.446822Z",
     "start_time": "2025-05-19T04:16:49.441353Z"
    }
   },
   "source": [
    "grader.check(\"q1_3\")"
   ],
   "outputs": [
    {
     "data": {
      "text/plain": [
       "q1_3 results: All test cases passed!"
      ],
      "text/html": [
       "<p><strong><pre style='display: inline;'>q1_3</pre></strong> passed! 🌈</p>"
      ]
     },
     "execution_count": 14,
     "metadata": {},
     "output_type": "execute_result"
    }
   ],
   "execution_count": 14
  },
  {
   "attachments": {},
   "cell_type": "markdown",
   "id": "4b95d975",
   "metadata": {},
   "source": [
    "---\n",
    "\n",
    "**Question 4.** Jonathan and Jadyn wants to see how Cal did against every opponent during the 2023 season. Using the `final_scores` table:\n",
    "\n",
    "1. Assign `results_array` to an array of `True` and `False` boolean values that correspond to whether or not Cal lost.\n",
    "2. Add `results_array` to the `final_scores` table in a column named `Results`, and assign this to `final_scores_with_results`.\n",
    "3. Then, respectively assign the number of wins and losses Cal had to `cal_wins` and `cal_losses`.\n",
    "\n",
    "**(10 Points)**\n",
    "\n",
    "*Hint*: `tbl.apply()` might be helpful. Refer to the [Python Reference](https://www.data8.org/fa24/reference/) if you're unsure how it works!\n"
   ]
  },
  {
   "cell_type": "code",
   "id": "b97916d6",
   "metadata": {
    "tags": [],
    "ExecuteTime": {
     "end_time": "2025-05-19T04:23:54.303362Z",
     "start_time": "2025-05-19T04:23:54.299497Z"
    }
   },
   "source": [
    "results_array = final_scores.apply(did_cal_lose)\n",
    "final_scores_with_results = final_scores.with_columns(\"Results\", results_array)\n",
    "cal_losses = final_scores_with_results.where(\"Results\", are.equal_to(True)).num_rows\n",
    "cal_wins = final_scores_with_results.where(\"Results\", are.equal_to(False)).num_rows\n",
    "\n",
    "# Don't delete or edit the following line:\n",
    "print(f\"In the 2023 Season, Cal Football won {cal_wins} games and lost {cal_losses} games. Go Bears! 🐻\")"
   ],
   "outputs": [
    {
     "name": "stdout",
     "output_type": "stream",
     "text": [
      "In the 2023 Season, Cal Football won 6 games and lost 7 games. Go Bears! 🐻\n"
     ]
    }
   ],
   "execution_count": 22
  },
  {
   "cell_type": "code",
   "id": "5fd5b689",
   "metadata": {
    "deletable": false,
    "editable": false,
    "ExecuteTime": {
     "end_time": "2025-05-19T04:23:55.832785Z",
     "start_time": "2025-05-19T04:23:55.826724Z"
    }
   },
   "source": [
    "grader.check(\"q1_4\")"
   ],
   "outputs": [
    {
     "data": {
      "text/plain": [
       "q1_4 results: All test cases passed!"
      ],
      "text/html": [
       "<p><strong><pre style='display: inline;'>q1_4</pre></strong> passed! 🍀</p>"
      ]
     },
     "execution_count": 23,
     "metadata": {},
     "output_type": "execute_result"
    }
   ],
   "execution_count": 23
  },
  {
   "cell_type": "markdown",
   "id": "68762cb1",
   "metadata": {},
   "source": [
    "<hr style=\"border: 5px solid #003262;\" />\n",
    "<hr style=\"border: 1px solid #fdb515;\" />\n",
    "\n",
    "## 2. Unrolling Loops (Optional)"
   ]
  },
  {
   "cell_type": "markdown",
   "id": "de7e0a6f",
   "metadata": {},
   "source": [
    "**This section of HW5 is optional. Do it for your own practice, but it will not be incorporated into the final grading!**\n",
    "\n",
    "\"Unrolling\" a `for` loop means to manually write out all the code that it executes.  The result is code that does the same thing as the loop, but without the structure of the loop.  For example, for the following loop:\n",
    "\n",
    "    for num in np.arange(3):\n",
    "        print(\"The number is\", num)\n",
    "\n",
    "The unrolled version would look like this:\n",
    "\n",
    "    print(\"The number is\", 0)\n",
    "    print(\"The number is\", 1)\n",
    "    print(\"The number is\", 2)\n",
    "\n",
    "\n",
    "Unrolling a `for` loop is a great way to understand what the loop is doing during each step. In this exercise, you'll practice unrolling a `for` loop.\n",
    "\n",
    "\n",
    "In the question below, write code that does the same thing as the given code, but with any `for` loops unrolled.  It's a good idea to run both your answer and the original code to verify that they do the same thing.  (Of course, if the code does something random, you'll get a different random outcome than the original code!)"
   ]
  },
  {
   "attachments": {},
   "cell_type": "markdown",
   "id": "94bf2d80",
   "metadata": {
    "deletable": false
   },
   "source": [
    "---\n",
    "\n",
    "**Optional Question 1.** Unroll the code below."
   ]
  },
  {
   "cell_type": "code",
   "id": "1becf5bd",
   "metadata": {
    "ExecuteTime": {
     "end_time": "2025-05-19T04:25:18.496628Z",
     "start_time": "2025-05-19T04:25:18.492457Z"
    }
   },
   "source": [
    "for joke_iteration in np.arange(3):\n",
    "    print(\"Knock. \" * (joke_iteration + 1))\n",
    "    print(\"Who's there?\")\n",
    "    print(\"Banana.\")\n",
    "    print(\"Banana who?\")\n",
    "print(\"Knock, knock.\")\n",
    "print(\"Who's there?\")\n",
    "print(\"Orange.\")\n",
    "print(\"Orange who?\")\n",
    "print(\"Orange you glad I didn't say banana?\")"
   ],
   "outputs": [
    {
     "name": "stdout",
     "output_type": "stream",
     "text": [
      "Knock. \n",
      "Who's there?\n",
      "Banana.\n",
      "Banana who?\n",
      "Knock. Knock. \n",
      "Who's there?\n",
      "Banana.\n",
      "Banana who?\n",
      "Knock. Knock. Knock. \n",
      "Who's there?\n",
      "Banana.\n",
      "Banana who?\n",
      "Knock, knock.\n",
      "Who's there?\n",
      "Orange.\n",
      "Orange who?\n",
      "Orange you glad I didn't say banana?\n"
     ]
    }
   ],
   "execution_count": 24
  },
  {
   "cell_type": "code",
   "id": "0acd8453",
   "metadata": {
    "for_assignment_type": "solution",
    "tags": [],
    "ExecuteTime": {
     "end_time": "2025-05-19T04:25:21.181858Z",
     "start_time": "2025-05-19T04:25:21.177106Z"
    }
   },
   "source": [
    "# First iteration (joke_iteration = 0)\n",
    "print(\"Knock. \")\n",
    "print(\"Who's there?\")\n",
    "print(\"Banana.\")\n",
    "print(\"Banana who?\")\n",
    "\n",
    "# Second iteration (joke_iteration = 1)\n",
    "print(\"Knock. Knock. \")\n",
    "print(\"Who's there?\")\n",
    "print(\"Banana.\")\n",
    "print(\"Banana who?\")\n",
    "\n",
    "# Third iteration (joke_iteration = 2)\n",
    "print(\"Knock. Knock. Knock. \")\n",
    "print(\"Who's there?\")\n",
    "print(\"Banana.\")\n",
    "print(\"Banana who?\")\n",
    "\n",
    "# After the loop finishes\n",
    "print(\"Knock, knock.\")\n",
    "print(\"Who's there?\")\n",
    "print(\"Orange.\")\n",
    "print(\"Orange who?\")\n",
    "print(\"Orange you glad I didn't say banana?\")\n"
   ],
   "outputs": [
    {
     "name": "stdout",
     "output_type": "stream",
     "text": [
      "Knock. \n",
      "Who's there?\n",
      "Banana.\n",
      "Banana who?\n",
      "Knock. Knock. \n",
      "Who's there?\n",
      "Banana.\n",
      "Banana who?\n",
      "Knock. Knock. Knock. \n",
      "Who's there?\n",
      "Banana.\n",
      "Banana who?\n",
      "Knock, knock.\n",
      "Who's there?\n",
      "Orange.\n",
      "Orange who?\n",
      "Orange you glad I didn't say banana?\n"
     ]
    }
   ],
   "execution_count": 26
  },
  {
   "attachments": {},
   "cell_type": "markdown",
   "id": "422905a5",
   "metadata": {},
   "source": [
    "Congratulations, you are done with Homework 5!"
   ]
  },
  {
   "attachments": {},
   "cell_type": "markdown",
   "id": "a248b61a",
   "metadata": {},
   "source": [
    "## Pets of Data 8\n",
    "**Tito** says congrats on finishing Lab 6!\n",
    "\n",
    "<img src=\"./tito.jpg\" width=\"40%\" alt=\"Black and white cat sitting next to window\"/>"
   ]
  },
  {
   "cell_type": "markdown",
   "id": "83aa23bd",
   "metadata": {
    "deletable": false,
    "editable": false
   },
   "source": [
    "## Submission\n",
    "\n",
    "Make sure you have run all cells in your notebook in order before running the cell below, so that all images/graphs appear in the output. The cell below will generate a zip file for you to submit. **Please save before exporting!**"
   ]
  },
  {
   "cell_type": "code",
   "id": "4a441d44",
   "metadata": {
    "deletable": false,
    "editable": false,
    "ExecuteTime": {
     "end_time": "2025-05-19T04:25:31.419285Z",
     "start_time": "2025-05-19T04:25:28.812345Z"
    }
   },
   "source": [
    "# Save your notebook first, then run this cell to export your submission.\n",
    "grader.export(pdf=False, run_tests=True)"
   ],
   "outputs": [
    {
     "name": "stdout",
     "output_type": "stream",
     "text": [
      "Running your submission against local test cases...\n",
      "\n",
      "\n",
      "Your submission received the following results when run against available test cases:\n",
      "\n",
      "    q0_1 results: All test cases passed!\n",
      "\n",
      "    q1_1 results: All test cases passed!\n",
      "\n",
      "    q1_2 results: All test cases passed!\n",
      "\n",
      "    q1_3 results: All test cases passed!\n",
      "\n",
      "    q1_4 results: All test cases passed!\n"
     ]
    },
    {
     "data": {
      "text/plain": [
       "<IPython.core.display.HTML object>"
      ],
      "text/html": [
       "\n",
       "                    <p>\n",
       "                        Your submission has been exported. Click\n",
       "                        <a href=\"hw05_2025_05_19T11_25_28_814474.zip\" download=\"hw05_2025_05_19T11_25_28_814474.zip\" target=\"_blank\">here</a> to download\n",
       "                        the zip file.\n",
       "                    </p>\n",
       "                "
      ]
     },
     "metadata": {},
     "output_type": "display_data"
    }
   ],
   "execution_count": 27
  },
  {
   "cell_type": "markdown",
   "id": "eb7529f2",
   "metadata": {},
   "source": [
    " "
   ]
  }
 ],
 "metadata": {
  "kernelspec": {
   "display_name": "Python 3",
   "language": "python",
   "name": "python3"
  },
  "language_info": {
   "codemirror_mode": {
    "name": "ipython",
    "version": 3
   },
   "file_extension": ".py",
   "mimetype": "text/x-python",
   "name": "python",
   "nbconvert_exporter": "python",
   "pygments_lexer": "ipython3",
   "version": "3.12.6"
  },
  "otter": {
   "OK_FORMAT": true,
   "tests": {
    "q0_1": {
     "name": "q0_1",
     "points": null,
     "suites": [
      {
       "cases": [
        {
         "code": ">>> # Make sure that your answer is a string\n>>> type(secret_phrase) == str \nTrue",
         "hidden": false,
         "locked": false
        }
       ],
       "scored": true,
       "setup": "",
       "teardown": "",
       "type": "doctest"
      }
     ]
    },
    "q1_1": {
     "name": "q1_1",
     "points": [
      1,
      1
     ],
     "suites": [
      {
       "cases": [
        {
         "code": ">>> sum_scores(2, 3, 6, 1)\n12",
         "hidden": false,
         "locked": false
        },
        {
         "code": ">>> sum_scores(-2,3,5,-10)\n-4",
         "hidden": false,
         "locked": false
        }
       ],
       "scored": true,
       "setup": "",
       "teardown": "",
       "type": "doctest"
      }
     ]
    },
    "q1_2": {
     "name": "q1_2",
     "points": [
      0,
      0,
      0,
      0,
      0
     ],
     "suites": [
      {
       "cases": [
        {
         "code": ">>> final_scores.num_columns\n3",
         "hidden": false,
         "locked": false
        },
        {
         "code": ">>> final_scores.num_rows\n13",
         "hidden": false,
         "locked": false
        },
        {
         "code": ">>> set(['Opponent', 'Cal Score', 'Opponent Score']) == set(final_scores.labels)\nTrue",
         "hidden": false,
         "locked": false
        },
        {
         "code": ">>> isinstance(final_scores.column(0).item(0), str)\nTrue",
         "hidden": false,
         "locked": false
        },
        {
         "code": ">>> isinstance(final_scores.column(1).item(0), int)\nTrue",
         "hidden": false,
         "locked": false
        }
       ],
       "scored": true,
       "setup": "",
       "teardown": "",
       "type": "doctest"
      }
     ]
    },
    "q1_3": {
     "name": "q1_3",
     "points": [
      0,
      2
     ],
     "suites": [
      {
       "cases": [
        {
         "code": ">>> 'did_cal_lose' in globals()\nTrue",
         "hidden": false,
         "locked": false
        },
        {
         "code": ">>> did_cal_lose(final_scores.row(1))\nTrue",
         "hidden": false,
         "locked": false
        }
       ],
       "scored": true,
       "setup": "",
       "teardown": "",
       "type": "doctest"
      }
     ]
    },
    "q1_4": {
     "name": "q1_4",
     "points": [
      0,
      0,
      0
     ],
     "suites": [
      {
       "cases": [
        {
         "code": ">>> 0 <= cal_wins <= 13\nTrue",
         "hidden": false,
         "locked": false
        },
        {
         "code": ">>> 0 <= cal_losses <= 13\nTrue",
         "hidden": false,
         "locked": false
        },
        {
         "code": ">>> \"Results\" in final_scores_with_results.labels\nTrue",
         "hidden": false,
         "locked": false
        }
       ],
       "scored": true,
       "setup": "",
       "teardown": "",
       "type": "doctest"
      }
     ]
    }
   }
  }
 },
 "nbformat": 4,
 "nbformat_minor": 5
}
